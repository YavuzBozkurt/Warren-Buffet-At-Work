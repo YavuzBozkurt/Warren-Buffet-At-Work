{
 "cells": [
  {
   "attachments": {},
   "cell_type": "markdown",
   "metadata": {},
   "source": [
    "<span style=\"color:#ff6200; \">Section: 3.1.1</span>"
   ]
  },
  {
   "attachments": {},
   "cell_type": "markdown",
   "metadata": {},
   "source": [
    "<span style=\"color:#ff6200;\">Exercise 3.1</span>"
   ]
  },
  {
   "cell_type": "code",
   "execution_count": 799,
   "metadata": {},
   "outputs": [
    {
     "name": "stdout",
     "output_type": "stream",
     "text": [
      "solutions: [0.189207115002721, -1.0 - 1.18920711500272*I, -1.0 + 1.18920711500272*I, -2.18920711500272]\n"
     ]
    }
   ],
   "source": [
    "from sympy import symbols, solve, summation, Eq\n",
    "r = symbols('r')\n",
    "prize1 = 10**4\n",
    "maturity1 = 1\n",
    "prize2 = 2 * 10**4\n",
    "maturity2 = 5\n",
    "expr = prize1 * (1 + r)**-maturity1 - prize2 * (1 + r)**-maturity2\n",
    "solutions = solve(expr)\n",
    "solutions = [sol.evalf() for sol in solutions]\n",
    "print(f'solutions: {solutions}')"
   ]
  },
  {
   "attachments": {},
   "cell_type": "markdown",
   "metadata": {},
   "source": [
    "_<span style=\"color:#ff6200;\">Answer:</span>_"
   ]
  },
  {
   "cell_type": "code",
   "execution_count": 800,
   "metadata": {},
   "outputs": [
    {
     "data": {
      "text/latex": [
       "$\\displaystyle 0.189207115002721$"
      ],
      "text/plain": [
       "0.189207115002721"
      ]
     },
     "execution_count": 800,
     "metadata": {},
     "output_type": "execute_result"
    }
   ],
   "source": [
    "solutions[0]"
   ]
  },
  {
   "attachments": {},
   "cell_type": "markdown",
   "metadata": {},
   "source": [
    "<span style=\"color:#ff6200;\">Exercise 3.2</span>"
   ]
  },
  {
   "cell_type": "code",
   "execution_count": 801,
   "metadata": {},
   "outputs": [],
   "source": [
    "\n",
    "exotic_bond_value = 300\n",
    "f = symbols('f')\n",
    "m = 2\n",
    "coupon_money = f * (5 / 100) / m\n",
    "maturity = 8  \n",
    "yield_bond = 20 / 100\n",
    "\n",
    "i = symbols('i')\n",
    "expr1 = coupon_money * (1 + yield_bond / m)**-i\n",
    "expr = exotic_bond_value - summation(expr1, (i, 1, maturity)) - f * (1 + yield_bond / m)**-maturity \n",
    "solutions = solve(expr)\n",
    "solutions = [sol.evalf() for sol in solutions]\n"
   ]
  },
  {
   "attachments": {},
   "cell_type": "markdown",
   "metadata": {},
   "source": [
    "_<span style=\"color:#ff6200;\">Answer:</span>_"
   ]
  },
  {
   "cell_type": "code",
   "execution_count": 802,
   "metadata": {},
   "outputs": [
    {
     "data": {
      "text/plain": [
       "[500.099573861543]"
      ]
     },
     "execution_count": 802,
     "metadata": {},
     "output_type": "execute_result"
    }
   ],
   "source": [
    "solutions"
   ]
  },
  {
   "attachments": {},
   "cell_type": "markdown",
   "metadata": {},
   "source": [
    "<span style=\"color:#ff6200;\">Exercise 3.3</span>"
   ]
  },
  {
   "cell_type": "code",
   "execution_count": 803,
   "metadata": {},
   "outputs": [
    {
     "name": "stdout",
     "output_type": "stream",
     "text": [
      "286.67014248307134 $, 1.9840285316092003\n"
     ]
    }
   ],
   "source": [
    "b_yield1, b_yield2, b_yield3, b_yield4, b_yield5 = 2.2 / 100, 2.3 / 100, 2.35 / 100, 2.5 / 100, 2.9 / 100\n",
    "maturity1, maturity2, maturity3, maturity4, maturity5 = 1, 2, 3, 4, 5\n",
    "money_need_maturity = 3\n",
    "face = 1\n",
    "\n",
    "bond1_value = face * (1 + b_yield1)**-maturity1\n",
    "bond2_value = face * (1 + b_yield2)**-maturity2\n",
    "bond3_value = face * (1 + b_yield3)**-maturity3\n",
    "bond4_value = face * (1 + b_yield4)**-maturity4\n",
    "bond5_value = face * (1 + b_yield5)**-maturity5\n",
    "dur1, dur2, dur3, dur4, dur5 = maturity1, maturity2, maturity3, maturity4, maturity5\n",
    "\n",
    "M = 100\n",
    "rs = [b_yield1, b_yield2, b_yield3]\n",
    "\n",
    "\n",
    "money_needed_now = sum ( [M * (1 + rs[i - 1])**-i for i in range(1, money_need_maturity + 1)] )\n",
    "dur_money = money_needed_now**-1 * sum ( [i * M * (1 + rs[i - 1])**-i for i in range(1, money_need_maturity + 1)] )\n",
    "print(f'{money_needed_now} $, {dur_money}')\n",
    "\n",
    "a, b = symbols('a b')\n",
    "eq1 = Eq(a * bond1_value + b * bond2_value, money_needed_now)\n",
    "eq2 = Eq(a * dur1 * bond1_value + b * dur2 * bond2_value, money_needed_now * dur_money)\n",
    "solution = solve((eq1, eq2), (a, b))"
   ]
  },
  {
   "attachments": {},
   "cell_type": "markdown",
   "metadata": {},
   "source": [
    "_<span style=\"color:#ff6200;\">Answer:</span>_"
   ]
  },
  {
   "cell_type": "code",
   "execution_count": 804,
   "metadata": {},
   "outputs": [
    {
     "data": {
      "text/plain": [
       "{a: 4.67927106787638, b: 295.217039390617}"
      ]
     },
     "execution_count": 804,
     "metadata": {},
     "output_type": "execute_result"
    }
   ],
   "source": [
    "solution"
   ]
  },
  {
   "attachments": {},
   "cell_type": "markdown",
   "metadata": {},
   "source": [
    "<span style=\"color:#ff6200;\">Exercise 3.4</span>"
   ]
  },
  {
   "cell_type": "code",
   "execution_count": 805,
   "metadata": {},
   "outputs": [
    {
     "name": "stdout",
     "output_type": "stream",
     "text": [
      "0.0, 1000 $, 5\n",
      "1479.12520444937 $, 1079.85420074156 $, 680.5831970337529\n",
      "3.83736488654498, 4.20374301516435\n",
      "7072.828056240721 $, 4.5\n"
     ]
    }
   ],
   "source": [
    "bond1_coupon, bond1_face, bond1_maturity = 20 / 100, 10**3, 5\n",
    "bond2_coupon, bond2_face, bond2_maturity = 10 / 100, 10**3, 5\n",
    "discount = 8 / 100\n",
    "\n",
    "factor1 = -1\n",
    "factor2 = 2\n",
    "bond3_coupon = factor1 * bond1_coupon + factor2 * bond2_coupon\n",
    "bond3_face = factor1 * bond1_face + factor2 * bond2_face\n",
    "bond3_maturity = bond1_maturity\n",
    "\n",
    "print(f'{bond3_coupon}, {bond3_face} $, {bond3_maturity}')\n",
    "\n",
    "i, j = symbols('i, j')\n",
    "expr1 = bond1_coupon * bond1_face * (1 + discount)**-i\n",
    "bond1_money = summation(expr1, (i, 1, bond1_maturity)) + bond1_face * (1 + discount)**-bond1_maturity\n",
    "\n",
    "expr2 = bond2_coupon * bond2_face * (1 + discount)**-j\n",
    "bond2_money = summation(expr2, (j, 1, bond2_maturity)) + bond2_face * (1 + discount)**-bond2_maturity\n",
    "\n",
    "bond3_money = bond3_face * (1 + discount)**-bond3_maturity\n",
    "\n",
    "print(f'{bond1_money} $, {bond2_money} $, {bond3_money}')\n",
    "\n",
    "expr1_dur = i * expr1\n",
    "expr2_dur = j * expr2\n",
    "dur1 = bond1_money**-1 * ( summation(expr1_dur, (i, 1, bond1_maturity)) + bond1_maturity * bond1_face * (1 + discount)**-bond1_maturity )\n",
    "dur2 = bond2_money**-1 * ( summation(expr2_dur, (j, 1, bond2_maturity)) + + bond2_maturity * bond1_face * (1 + discount)**-bond2_maturity )\n",
    "dur3 = bond3_maturity\n",
    "\n",
    "print(f'{dur1}, {dur2}')\n",
    "\n",
    "money_needed = 10**4 \n",
    "needed_maturity = 4.5\n",
    "money_needed_today = money_needed * (1 + discount)**-needed_maturity\n",
    "needed_dur = needed_maturity\n",
    "\n",
    "print(f'{money_needed_today} $, {needed_dur}')\n",
    "\n",
    "a, c = symbols('a c')\n",
    "eq1 = Eq(a * bond1_money + c * bond3_money, money_needed_today)\n",
    "eq2 = Eq(a * bond1_money * dur1 + c * bond3_money * dur3, money_needed_today * needed_dur)\n",
    "solution = solve((eq1, eq2), (a, c))"
   ]
  },
  {
   "attachments": {},
   "cell_type": "markdown",
   "metadata": {},
   "source": [
    "_<span style=\"color:#ff6200;\">Answer:</span>_"
   ]
  },
  {
   "cell_type": "code",
   "execution_count": 806,
   "metadata": {},
   "outputs": [
    {
     "data": {
      "text/plain": [
       "{a: 2.05643379273488, c: 5.92301576015141}"
      ]
     },
     "execution_count": 806,
     "metadata": {},
     "output_type": "execute_result"
    }
   ],
   "source": [
    "solution"
   ]
  },
  {
   "attachments": {},
   "cell_type": "markdown",
   "metadata": {},
   "source": [
    "<span style=\"color:#ff6200;\">Exercise 3.5</span>"
   ]
  },
  {
   "cell_type": "code",
   "execution_count": 807,
   "metadata": {},
   "outputs": [
    {
     "name": "stdout",
     "output_type": "stream",
     "text": [
      "2192.4731917218764 $, 3.246105919003115\n",
      "2192.4731917218764 $, 2192.4734241140995 $\n",
      "7117.005777219636, 7117.000204904034\n",
      "1850.4467798401147 $, 3.1535593545236003\n",
      "1850.4467798401147 $, 1861.2867249283247 $\n",
      "5922.306482652918, 5835.493752612867\n"
     ]
    }
   ],
   "source": [
    "money_borrowed2 = 10**3\n",
    "maturity2 = 2\n",
    "money_borrowed4 = 2 * 10**3\n",
    "maturity4 = 4\n",
    "market_interest_rate = 10 / 100\n",
    "\n",
    "money_today_borrowed2 = money_borrowed2 * (1 + market_interest_rate)**-maturity2\n",
    "money_today_borrowed4 = money_borrowed4 * (1 + market_interest_rate)**-maturity4\n",
    "money_today_borrowed = money_today_borrowed2 + money_today_borrowed4\n",
    "dur = money_today_borrowed**-1 * (maturity2 * money_today_borrowed2 + maturity4 * money_today_borrowed4)\n",
    "\n",
    "print(f'{money_today_borrowed} $, {dur}')\n",
    "\n",
    "zmat1, zmat3, zmat5 = 1, 3, 5\n",
    "dur1, dur3, dur5 = zmat1, zmat3, zmat5\n",
    "zbond1_face = 44.7347\n",
    "zbond3_face = 2450.83\n",
    "zbond5_face = 500\n",
    "\n",
    "z1today = zbond1_face * (1 + market_interest_rate)**-zmat1\n",
    "z3today = zbond3_face * (1 + market_interest_rate)**-zmat3\n",
    "z5today = zbond5_face * (1 + market_interest_rate)**-zmat5\n",
    "ztoday = z1today + z3today + z5today\n",
    "\n",
    "print(f'{money_today_borrowed} $, {ztoday} $')\n",
    "eq = z1today * dur1 + z3today * dur3 + z5today * dur5 \n",
    "print(f'{eq}, {money_today_borrowed * dur}')\n",
    "\n",
    "spot1, spot2, spot3, spot4, spot5 = 11 / 100, 13 / 100, 15 / 100, 17 / 100, 19 / 100\n",
    "\n",
    "moneys_borrowed = [money_borrowed2, money_borrowed4]\n",
    "spots_borrowed = [spot2, spot4]\n",
    "maturities = [maturity2, maturity4]\n",
    "moneys_today_borrowed_upd = [ moneys_borrowed[i] * (1 + spots_borrowed[i])**-maturities[i] for i in range(0, 1 + 1)]\n",
    "money_today_borrowed_updated = sum(moneys_today_borrowed_upd)\n",
    "dur_updated = money_today_borrowed_updated**-1 * (maturity2 * moneys_today_borrowed_upd[0] + maturity4 * moneys_today_borrowed_upd[1])\n",
    "\n",
    "print(f'{money_today_borrowed_updated} $, {dur_updated}')\n",
    "\n",
    "z1today_upd = zbond1_face * (1 + spot1)**-zmat1\n",
    "z3today_upd = zbond3_face * (1 + spot3)**-zmat3\n",
    "z5today_upd = zbond5_face * (1 + spot5)**-zmat5\n",
    "ztoday_upd = z1today_upd + z3today_upd + z5today_upd\n",
    "dur1_upd, dur3_upd, dur5_upd = zmat1, zmat3, zmat5\n",
    "\n",
    "print(f'{money_today_borrowed_updated} $, {ztoday_upd} $')\n",
    "eq_upd = z1today_upd * dur1 + z3today_upd * dur3 + z5today_upd * dur5 \n",
    "print(f'{eq_upd}, {money_today_borrowed_updated * dur_updated}')\n"
   ]
  },
  {
   "attachments": {},
   "cell_type": "markdown",
   "metadata": {},
   "source": [
    "_<span style=\"color:#ff6200;\">Answer:</span>_"
   ]
  },
  {
   "cell_type": "code",
   "execution_count": 808,
   "metadata": {},
   "outputs": [],
   "source": [
    "# no immunization effectively"
   ]
  },
  {
   "attachments": {},
   "cell_type": "markdown",
   "metadata": {},
   "source": [
    "<span style=\"color:#ff6200;\">Exercise 3.6</span>"
   ]
  },
  {
   "cell_type": "code",
   "execution_count": 809,
   "metadata": {},
   "outputs": [],
   "source": [
    "spot1, spot2 = 6.3 / 100, 6.9 / 100\n",
    "mat1, mat2 = 1, 2\n",
    "money = 1\n",
    "f12 = money * (1 + spot2)**mat2 * money**-1 * (1 + spot1)**-mat1 - 1"
   ]
  },
  {
   "attachments": {},
   "cell_type": "markdown",
   "metadata": {},
   "source": [
    "_<span style=\"color:#ff6200;\">Answer:</span>_"
   ]
  },
  {
   "cell_type": "code",
   "execution_count": 810,
   "metadata": {},
   "outputs": [
    {
     "name": "stdout",
     "output_type": "stream",
     "text": [
      " 7.503386641580434 %\n"
     ]
    }
   ],
   "source": [
    "print(f' {f12 * 100} %')"
   ]
  },
  {
   "attachments": {},
   "cell_type": "markdown",
   "metadata": {},
   "source": [
    "<span style=\"color:#ff6200;\">Exercise 3.7</span>"
   ]
  },
  {
   "cell_type": "code",
   "execution_count": 811,
   "metadata": {},
   "outputs": [],
   "source": [
    "spots = [5 / 100, 5.3 / 100, 5.6 / 100, 5.8 / 100, 6.0 / 100, 6.1 / 100] \n",
    "mats = [1, 2, 3, 4, 5, 6]\n",
    "\n",
    "def fut_spot(i, j):\n",
    "    assert i < j and 1 <= j <= 6 and 1 <= i <= 6\n",
    "    f = ( (1 + spots[j - 1])**mats[j - 1] * (1 + spots[i - 1])**(-1 * mats[i - 1]) )**(1 / (j - i)) - 1\n",
    "    return f"
   ]
  },
  {
   "attachments": {},
   "cell_type": "markdown",
   "metadata": {},
   "source": [
    "_<span style=\"color:#ff6200;\">Answer:</span>_"
   ]
  },
  {
   "cell_type": "code",
   "execution_count": 812,
   "metadata": {},
   "outputs": [
    {
     "name": "stdout",
     "output_type": "stream",
     "text": [
      " 5.600857142857141 %, 5.901284492412362 %, 6.068018877943282 %, 6.251484566840171 %, 6.321379012029071 % \n"
     ]
    }
   ],
   "source": [
    "print(f' {fut_spot(1, 2) * 100} %, {fut_spot(1, 3) * 100} %, {fut_spot(1, 4) * 100} %, {fut_spot(1, 5) * 100} %, {fut_spot(1, 6) * 100} % ')"
   ]
  },
  {
   "attachments": {},
   "cell_type": "markdown",
   "metadata": {},
   "source": [
    "<span style=\"color:#ff6200;\">Exercise 3.8</span>"
   ]
  },
  {
   "cell_type": "code",
   "execution_count": 813,
   "metadata": {},
   "outputs": [],
   "source": [
    "bond1_price, bond2_price = 101, 93.20\n",
    "coupon1, coupon2 = 9 / 100, 7 / 100\n",
    "mat1, mat2 = 5, 5\n",
    "fac1, fac2 = -7, 9\n",
    "zb1 = fac1 * bond1_price + fac2 * bond2_price\n",
    "zb_coupon = fac1 * coupon1 + fac2 * coupon2\n",
    "face = 1"
   ]
  },
  {
   "attachments": {},
   "cell_type": "markdown",
   "metadata": {},
   "source": [
    "_<span style=\"color:#ff6200;\">Answer:</span>_"
   ]
  },
  {
   "cell_type": "code",
   "execution_count": 814,
   "metadata": {},
   "outputs": [
    {
     "name": "stdout",
     "output_type": "stream",
     "text": [
      "131.80000000000007 $, 1.1102230246251565e-16, 1\n"
     ]
    }
   ],
   "source": [
    "print(f'{zb1} $, {zb_coupon}, {face}')"
   ]
  },
  {
   "attachments": {},
   "cell_type": "markdown",
   "metadata": {},
   "source": [
    "<span style=\"color:#ff6200; \">Section: 4.1.1</span>"
   ]
  },
  {
   "attachments": {},
   "cell_type": "markdown",
   "metadata": {},
   "source": [
    "<span style=\"color:#ff6200;\">Exercise 4.1</span>"
   ]
  },
  {
   "cell_type": "code",
   "execution_count": 815,
   "metadata": {},
   "outputs": [
    {
     "name": "stdout",
     "output_type": "stream",
     "text": [
      " 3.0000000000000004 %, 23.0 %\n",
      "0.410000000000000 %, 0.410000000000000 %\n",
      "0.00410000000000000\n",
      "15.0000000000000, 85.0000000000000 %\n"
     ]
    }
   ],
   "source": [
    "prob1, prob2, prob3 = 10 / 100, 50 / 100, 40 / 100\n",
    "ret11, ret12, ret13 = - 10 / 100, 0 / 100, 10 / 100\n",
    "ret21, ret22, ret23 = 10 / 100, 20 / 100, 30 / 100\n",
    "\n",
    "mu1 = prob1 * ret11 + prob2 * ret12 + prob3 * ret13\n",
    "mu2 = prob1 * ret21 + prob2 * ret22 + prob3 * ret23\n",
    "\n",
    "print(f' {mu1 * 100} %, {mu2 * 100} %')\n",
    "\n",
    "xi, yi = symbols('xi yi')\n",
    "expr1 = (xi - mu1)**2\n",
    "expr2 = (xi - mu2)**2\n",
    "\n",
    "var1 = (prob1 * expr1.subs(xi, ret11) + prob2 *\n",
    "        expr1.subs(xi, ret12) + prob3 * expr1.subs(xi, ret13))\n",
    "var2 = (prob1 * expr2.subs(xi, ret21) + prob2 *\n",
    "        expr2.subs(xi, ret22) + prob3 * expr2.subs(xi, ret23))\n",
    "sig1, sig2 = var1**(1 / 2), var2**(1 / 2)\n",
    "\n",
    "print(f'{var1 * 100} %, {var2 * 100} %')\n",
    "\n",
    "cov = (xi - mu1) * (yi - mu2)\n",
    "cov12 = (prob1 * cov.subs({xi: ret11, yi: ret21}) + prob2 * cov.subs(\n",
    "    {xi: ret12, yi: ret22}) + prob3 * cov.subs({xi: ret13, yi: ret23}))\n",
    "\n",
    "print(f'{cov12}')\n",
    "w, p = symbols('w p')\n",
    "exp = w * mu1 + (1 - w) * mu2\n",
    "sigsq = w**2 * sig1**2 + 2 * w * \\\n",
    "    (1 - w) * p * sig1 * sig2 + (1 - w)**2 * sig2**2\n",
    "\n",
    "expr = exp - 20 / 100\n",
    "solution = solve(expr)\n",
    "\n",
    "print(f'{solution[0] * 100}, {(1 - solution[0]) * 100} %')\n",
    "\n",
    "p12 = cov12 * (sig1 * sig2)**-1"
   ]
  },
  {
   "attachments": {},
   "cell_type": "markdown",
   "metadata": {},
   "source": [
    "_<span style=\"color:#ff6200;\">Answer:</span>_"
   ]
  },
  {
   "cell_type": "code",
   "execution_count": 816,
   "metadata": {},
   "outputs": [
    {
     "name": "stdout",
     "output_type": "stream",
     "text": [
      "0.00410000000000000\n"
     ]
    }
   ],
   "source": [
    "print(f'{sigsq.subs({w : 40 / 100, p : p12})}')"
   ]
  },
  {
   "attachments": {},
   "cell_type": "markdown",
   "metadata": {},
   "source": [
    "<span style=\"color:#ff6200;\">Exercise 4.2</span>"
   ]
  },
  {
   "cell_type": "code",
   "execution_count": 817,
   "metadata": {},
   "outputs": [],
   "source": [
    "S10, S20 = 45, 35\n",
    "S11, S21 = 49, 32\n",
    "w1, w2 = 25 / 100, 75 / 100\n",
    "V0 = 100\n",
    "a1 = w1 * V0 / S10\n",
    "a2 = w2 * V0 / S20\n",
    "V1 = a1 * S11 + a2 * S21"
   ]
  },
  {
   "attachments": {},
   "cell_type": "markdown",
   "metadata": {},
   "source": [
    "_<span style=\"color:#ff6200;\">Answer</span>_"
   ]
  },
  {
   "cell_type": "code",
   "execution_count": 818,
   "metadata": {},
   "outputs": [
    {
     "data": {
      "text/plain": [
       "95.7936507936508"
      ]
     },
     "execution_count": 818,
     "metadata": {},
     "output_type": "execute_result"
    }
   ],
   "source": [
    "V1"
   ]
  },
  {
   "attachments": {},
   "cell_type": "markdown",
   "metadata": {},
   "source": [
    "<span style=\"color:#ff6200;\">Exercise 4.3</span>"
   ]
  },
  {
   "cell_type": "code",
   "execution_count": 819,
   "metadata": {},
   "outputs": [],
   "source": [
    "from sympy import symbols\n",
    "import numpy as np\n",
    "\n",
    "sig1, sig2, sig3 = symbols('sig1, sig2, sig3')\n",
    "mu1, mu2, mu3 = symbols('mu1, mu2, mu3')\n",
    "\n",
    "mu = np.array([mu1, mu2, mu3])\n",
    "matcov = np.array([[sig1**2, 0, 0],\n",
    "                   [0, sig2**2, 0],\n",
    "                   [0, 0, sig3**2]])\n",
    "matcovinv = np.array([[sig1**-2, 0, 0],\n",
    "                      [0, sig2**-2, 0],\n",
    "                      [0, 0, sig3**-2]])\n",
    "ones = np.array([1, 1, 1])\n",
    "\n",
    "portf = (ones.T @ matcovinv) * (ones.T @ matcovinv @ ones)**-1\n",
    "expect = portf @ mu\n",
    "vol = portf @ matcov @ portf.T"
   ]
  },
  {
   "attachments": {},
   "cell_type": "markdown",
   "metadata": {},
   "source": [
    "_<span style=\"color:#ff6200;\">Answer</span>_"
   ]
  },
  {
   "cell_type": "code",
   "execution_count": 820,
   "metadata": {},
   "outputs": [
    {
     "name": "stdout",
     "output_type": "stream",
     "text": [
      "[1/(sig1**2*(sig3**(-2) + sig2**(-2) + sig1**(-2)))\n",
      " 1/(sig2**2*(sig3**(-2) + sig2**(-2) + sig1**(-2)))\n",
      " 1/(sig3**2*(sig3**(-2) + sig2**(-2) + sig1**(-2)))], mu1/(sig1**2*(sig3**(-2) + sig2**(-2) + sig1**(-2))) + mu2/(sig2**2*(sig3**(-2) + sig2**(-2) + sig1**(-2))) + mu3/(sig3**2*(sig3**(-2) + sig2**(-2) + sig1**(-2))) $, 1/(sig3**2*(sig3**(-2) + sig2**(-2) + sig1**(-2))**2) + 1/(sig2**2*(sig3**(-2) + sig2**(-2) + sig1**(-2))**2) + 1/(sig1**2*(sig3**(-2) + sig2**(-2) + sig1**(-2))**2)\n"
     ]
    }
   ],
   "source": [
    "print(f'{portf}, {expect} $, {vol}')"
   ]
  },
  {
   "attachments": {},
   "cell_type": "markdown",
   "metadata": {},
   "source": [
    "<span style=\"color:#ff6200;\">Exercise 4.4</span>"
   ]
  },
  {
   "cell_type": "code",
   "execution_count": 821,
   "metadata": {},
   "outputs": [],
   "source": [
    "from sympy import symbols\n",
    "import numpy as np\n",
    "\n",
    "sig1, sig2, sig3 = symbols('sig1, sig2, sig3')\n",
    "mu1, mu2, mu3 = symbols('mu1, mu2, mu3')\n",
    "\n",
    "mu = np.array([0.1, 0.15, 0.2])\n",
    "matcov = np.array([[0.2, 0, 0],\n",
    "                   [0, 0.2, 0.1],\n",
    "                   [0, 0.1, 0.2]])\n",
    "matcovinv = (1/3) * np.array([[15, 0, 0],\n",
    "                              [0, 20, -10],\n",
    "                              [0, -10, 20]])\n",
    "ones = np.array([1, 1, 1])\n",
    "\n",
    "portf = (ones.T @ matcovinv) * (ones.T @ matcovinv @ ones)**-1\n",
    "expect = portf @ mu\n",
    "vol = portf @ matcov @ portf.T"
   ]
  },
  {
   "attachments": {},
   "cell_type": "markdown",
   "metadata": {},
   "source": [
    "_<span style=\"color:#ff6200;\">Answer</span>_"
   ]
  },
  {
   "cell_type": "code",
   "execution_count": 822,
   "metadata": {},
   "outputs": [
    {
     "name": "stdout",
     "output_type": "stream",
     "text": [
      "[0.42857143 0.28571429 0.28571429], 0.1428571428571429 $, 0.08571428571428574\n"
     ]
    }
   ],
   "source": [
    "print(f'{portf}, {expect} $, {vol}')"
   ]
  },
  {
   "attachments": {},
   "cell_type": "markdown",
   "metadata": {},
   "source": [
    "<span style=\"color:#ff6200;\">Exercise 4.6</span>"
   ]
  },
  {
   "cell_type": "code",
   "execution_count": 823,
   "metadata": {},
   "outputs": [
    {
     "name": "stdout",
     "output_type": "stream",
     "text": [
      "25.0*(0.1 - 0.3*w)*(0.3 - 0.1*w)/(w**2 + w*(1 - w) + 0.75*(1 - w)**2)**2 - 0.1/(0.2*w**2 + 0.2*w*(1 - w) + 0.15*(1 - w)**2)\n"
     ]
    }
   ],
   "source": [
    "from sympy import symbols, solve, diff\n",
    "\n",
    "w = symbols('w')\n",
    "sig1sq, sig2sq = 0.2, 0.15\n",
    "matcov = np.array([[0.2, 0.1], \n",
    "                   [0.1, 0.15]])\n",
    "mus = np.array([0.2, 0.3])\n",
    "cov12 = 0.1\n",
    "\n",
    "expr = (w * mus[0] + (1 - w) * mus[1]) * (w**2 * sig1sq + 2 * w * (1 - w) * cov12 + (1 - w)**2 * sig2sq)**-1\n",
    "differ = diff(expr, w)\n",
    "print(differ)\n",
    "solutions = solve(differ)"
   ]
  },
  {
   "attachments": {},
   "cell_type": "markdown",
   "metadata": {},
   "source": [
    "_<span style=\"color:#ff6200;\">Answer</span>_"
   ]
  },
  {
   "cell_type": "code",
   "execution_count": 824,
   "metadata": {},
   "outputs": [
    {
     "name": "stdout",
     "output_type": "stream",
     "text": [
      "['17.1572875253810 %', '582.842712474619 %']\n"
     ]
    },
    {
     "data": {
      "text/latex": [
       "$\\displaystyle 0.17157287525381$"
      ],
      "text/plain": [
       "0.171572875253810"
      ]
     },
     "execution_count": 824,
     "metadata": {},
     "output_type": "execute_result"
    }
   ],
   "source": [
    "print([f'{solutions[i] * 100} %' for i in range(len(solutions))])\n",
    "solutions[0]"
   ]
  },
  {
   "attachments": {},
   "cell_type": "markdown",
   "metadata": {},
   "source": [
    "<span style=\"color:#ff6200;\">Exercise 4.7</span>"
   ]
  },
  {
   "cell_type": "code",
   "execution_count": 825,
   "metadata": {},
   "outputs": [],
   "source": [
    "# INCORRECT POSSIBLY #\n",
    "from sympy import symbols\n",
    "insu_price = 0.5\n",
    "insu_ret = 1\n",
    "invest = 10**6\n",
    "reward = 3 * 10**6\n",
    "\n",
    "u = symbols('u')\n",
    "concert_expect = 0.5 * reward - 0.5 * invest\n",
    "insu_expect =  -0.5 * (u * insu_price) + 0.5 * (u * insu_ret) \n",
    "tot = invest + u * insu_price\n",
    "portf_exp = invest * tot**-1 * concert_expect + (1 - tot)**-1 * insu_expect"
   ]
  },
  {
   "attachments": {},
   "cell_type": "markdown",
   "metadata": {},
   "source": [
    "_<span style=\"color:#ff6200;\">Answer</span>_"
   ]
  },
  {
   "cell_type": "code",
   "execution_count": 826,
   "metadata": {},
   "outputs": [
    {
     "name": "stdout",
     "output_type": "stream",
     "text": [
      "0.25*u/(-0.5*u - 999999) + 1000000000000.0/(0.5*u + 1000000) $\n"
     ]
    }
   ],
   "source": [
    "print(f'{portf_exp} $')"
   ]
  }
 ],
 "metadata": {
  "kernelspec": {
   "display_name": "Python 3",
   "language": "python",
   "name": "python3"
  },
  "language_info": {
   "codemirror_mode": {
    "name": "ipython",
    "version": 3
   },
   "file_extension": ".py",
   "mimetype": "text/x-python",
   "name": "python",
   "nbconvert_exporter": "python",
   "pygments_lexer": "ipython3",
   "version": "3.11.2"
  },
  "orig_nbformat": 4
 },
 "nbformat": 4,
 "nbformat_minor": 2
}
