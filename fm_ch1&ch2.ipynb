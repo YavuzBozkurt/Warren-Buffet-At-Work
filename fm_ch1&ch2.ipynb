{
 "cells": [
  {
   "attachments": {},
   "cell_type": "markdown",
   "metadata": {},
   "source": [
    "<span style=\"color:#ff6200; \">Section: 1.1.1</span>"
   ]
  },
  {
   "attachments": {},
   "cell_type": "markdown",
   "metadata": {},
   "source": [
    "<span style=\"color:#ff6200; \">Exercise 1.1</span>"
   ]
  },
  {
   "cell_type": "code",
   "execution_count": 1,
   "metadata": {
    "ExecuteTime": {
     "end_time": "2023-05-07T13:22:04.965921Z",
     "start_time": "2023-05-07T13:22:04.937038Z"
    }
   },
   "outputs": [],
   "source": [
    "FV = 463\n",
    "PV = 453\n",
    "m = 12\n",
    "r = ((FV/PV) - 1)*m"
   ]
  },
  {
   "attachments": {},
   "cell_type": "markdown",
   "metadata": {},
   "source": [
    "_<span style=\"color:#ff6200;\">Answer:</span>_"
   ]
  },
  {
   "cell_type": "code",
   "execution_count": 2,
   "metadata": {
    "ExecuteTime": {
     "end_time": "2023-05-07T13:22:05.013516Z",
     "start_time": "2023-05-07T13:22:04.955043Z"
    }
   },
   "outputs": [
    {
     "name": "stdout",
     "output_type": "stream",
     "text": [
      "26.49006622516543 %\n"
     ]
    }
   ],
   "source": [
    "print(f'{r * 100} %')"
   ]
  },
  {
   "attachments": {},
   "cell_type": "markdown",
   "metadata": {},
   "source": [
    "<span style=\"color:#ff6200;\">Exercise 1.2</span>"
   ]
  },
  {
   "cell_type": "code",
   "execution_count": 3,
   "metadata": {
    "ExecuteTime": {
     "end_time": "2023-05-07T13:22:05.014184Z",
     "start_time": "2023-05-07T13:22:04.971940Z"
    }
   },
   "outputs": [],
   "source": [
    "r = 11.6/100\n",
    "PV = 100\n",
    "n = 1\n",
    "\n",
    "FV_scenerio_1 = PV * (1 + r*n)\n",
    "FV_scenerio_2 = PV * (1 + r/m)**(12*n)\n",
    "\n",
    "effective_scenerio_1 = FV_scenerio_1*1 - PV\n",
    "effective_scenerio_2 = FV_scenerio_2*1 - PV"
   ]
  },
  {
   "attachments": {},
   "cell_type": "markdown",
   "metadata": {},
   "source": [
    "_<span style=\"color:#ff6200;\">Answer:</span>_"
   ]
  },
  {
   "cell_type": "code",
   "execution_count": 4,
   "metadata": {
    "ExecuteTime": {
     "end_time": "2023-05-07T13:22:05.014184Z",
     "start_time": "2023-05-07T13:22:04.987596Z"
    }
   },
   "outputs": [
    {
     "data": {
      "text/plain": [
       "(111.60000000000001,\n",
       " 112.23704484026665,\n",
       " '11.600000000000009 %',\n",
       " '12.237044840266648 %')"
      ]
     },
     "execution_count": 4,
     "metadata": {},
     "output_type": "execute_result"
    }
   ],
   "source": [
    "FV_scenerio_1, FV_scenerio_2, f'{effective_scenerio_1} %', f'{effective_scenerio_2} %'"
   ]
  },
  {
   "attachments": {},
   "cell_type": "markdown",
   "metadata": {},
   "source": [
    "<span style=\"color:#ff6200;\">Exercise 1.3</span>"
   ]
  },
  {
   "cell_type": "code",
   "execution_count": 5,
   "metadata": {
    "ExecuteTime": {
     "end_time": "2023-05-07T13:22:05.023168Z",
     "start_time": "2023-05-07T13:22:05.001158Z"
    }
   },
   "outputs": [],
   "source": [
    "savings = 120000\n",
    "r = 7.2/100\n",
    "m = 12\n",
    "n = 1\n",
    "\n",
    "FV = savings * (1 + r/m)**(12*n)\n",
    "effective = (FV / 1200) - 100\n",
    "\n",
    "n = 3\n",
    "value_after_three_years = savings * (1 + r/m)**(12*n)\n",
    "\n",
    "value_after_four_years_with_withdrawal = (savings * (1 + r/m)**(12*1.5) - 20000) * (1 + r/m)**(12*2.5)"
   ]
  },
  {
   "attachments": {},
   "cell_type": "markdown",
   "metadata": {},
   "source": [
    "_<span style=\"color:#ff6200;\">Answer:</span>_"
   ]
  },
  {
   "cell_type": "code",
   "execution_count": 6,
   "metadata": {
    "ExecuteTime": {
     "end_time": "2023-05-07T13:22:05.031113Z",
     "start_time": "2023-05-07T13:22:05.020152Z"
    }
   },
   "outputs": [
    {
     "data": {
      "text/plain": [
       "(128930.90012663098,\n",
       " '7.442416772192487 %',\n",
       " 148836.19267614983,\n",
       " 135981.73017717846)"
      ]
     },
     "execution_count": 6,
     "metadata": {},
     "output_type": "execute_result"
    }
   ],
   "source": [
    "FV, f'{effective} %', value_after_three_years, value_after_four_years_with_withdrawal"
   ]
  },
  {
   "attachments": {},
   "cell_type": "markdown",
   "metadata": {},
   "source": [
    "<span style=\"color:#ff6200;\">Exercise 1.4</span>"
   ]
  },
  {
   "cell_type": "code",
   "execution_count": 7,
   "metadata": {
    "ExecuteTime": {
     "end_time": "2023-05-07T13:22:05.092833Z",
     "start_time": "2023-05-07T13:22:05.034139Z"
    }
   },
   "outputs": [],
   "source": [
    "import numpy as np\n",
    "\n",
    "car_value_now = 510000\n",
    "car_value_later = 10000\n",
    "n = 5\n",
    "\n",
    "discount_rate_yearly = (car_value_later / car_value_now)**(1/n) - 1\n",
    "discount_rate_continuous = np.log(car_value_later / car_value_now)*1/n\n",
    "\n",
    "car_value_over_years_with_yearly = [car_value_now * (1 + discount_rate_yearly)**n for n in range(5 + 1)]\n",
    "car_value_over_years_with_expo = [ car_value_now * np.e**(discount_rate_continuous * n) for n in range(5 + 1)]"
   ]
  },
  {
   "attachments": {},
   "cell_type": "markdown",
   "metadata": {},
   "source": [
    "_<span style=\"color:#ff6200;\">Answer:</span>_"
   ]
  },
  {
   "cell_type": "code",
   "execution_count": 8,
   "metadata": {
    "ExecuteTime": {
     "end_time": "2023-05-07T13:22:05.096826Z",
     "start_time": "2023-05-07T13:22:05.048920Z"
    }
   },
   "outputs": [
    {
     "data": {
      "text/plain": [
       "(-0.5445025345146273,\n",
       " -0.7863651265448651,\n",
       " [510000.0,\n",
       "  232303.7073975401,\n",
       "  105813.74994243514,\n",
       "  48197.894912282216,\n",
       "  21954.018974274888,\n",
       "  9999.999999999995],\n",
       " [510000.0,\n",
       "  232303.70739754013,\n",
       "  105813.74994243518,\n",
       "  48197.894912282245,\n",
       "  21954.018974274906,\n",
       "  10000.000000000004])"
      ]
     },
     "execution_count": 8,
     "metadata": {},
     "output_type": "execute_result"
    }
   ],
   "source": [
    "discount_rate_yearly, discount_rate_continuous, car_value_over_years_with_yearly, car_value_over_years_with_expo"
   ]
  },
  {
   "attachments": {},
   "cell_type": "markdown",
   "metadata": {},
   "source": [
    "<span style=\"color:#ff6200;\">Exercise 1.5:</span>"
   ]
  },
  {
   "cell_type": "code",
   "execution_count": 9,
   "metadata": {
    "ExecuteTime": {
     "end_time": "2023-05-07T13:22:05.110904Z",
     "start_time": "2023-05-07T13:22:05.096826Z"
    }
   },
   "outputs": [],
   "source": [
    "debt_now = 5000\n",
    "loan_rate = 24/100\n",
    "m = 12\n",
    "n = 1 \n",
    "\n",
    "debt_later = debt_now * (1 + loan_rate/m)**(m*n) \n",
    "effective_debt = debt_later/50 - 100\n",
    "debt_after_one_month = debt_now*(1 + loan_rate/m)**1\n",
    "neuralize_amount = debt_after_one_month - debt_now\n",
    "\n"
   ]
  },
  {
   "attachments": {},
   "cell_type": "markdown",
   "metadata": {},
   "source": [
    "_<span style=\"color:#ff6200;\">Answer:</span>_"
   ]
  },
  {
   "cell_type": "code",
   "execution_count": 10,
   "metadata": {},
   "outputs": [
    {
     "data": {
      "text/plain": [
       "(6341.208972812728, '26.824179456254555 %', '100.0 $')"
      ]
     },
     "execution_count": 10,
     "metadata": {},
     "output_type": "execute_result"
    }
   ],
   "source": [
    "debt_later, f'{effective_debt} %', f'{neuralize_amount} $'"
   ]
  },
  {
   "attachments": {},
   "cell_type": "markdown",
   "metadata": {},
   "source": [
    "<span style=\"color:#ff6200;\">Exercise 1.6:</span>"
   ]
  },
  {
   "cell_type": "code",
   "execution_count": 11,
   "metadata": {},
   "outputs": [],
   "source": [
    "parked_money = 25000\n",
    "nominal_rate = 4/100\n",
    "m = 12\n",
    "n = 3\n",
    "shop_monthly = 30\n",
    "\n",
    "payment_back_surplus = parked_money * 6/100\n",
    "bank_payments = parked_money * (1 + nominal_rate)**n\n",
    "shop_payments = [shop_monthly * (1 + nominal_rate / m)**(m*n - k) for k in range(0, m*n + 1)]"
   ]
  },
  {
   "attachments": {},
   "cell_type": "markdown",
   "metadata": {},
   "source": [
    "_<span style=\"color:#ff6200;\">Answer:</span>_"
   ]
  },
  {
   "cell_type": "code",
   "execution_count": 12,
   "metadata": {},
   "outputs": [
    {
     "data": {
      "text/plain": [
       "(28121.600000000002, 27679.26502689674)"
      ]
     },
     "execution_count": 12,
     "metadata": {},
     "output_type": "execute_result"
    }
   ],
   "source": [
    "bank_payments, sum(shop_payments) + (payment_back_surplus + parked_money)"
   ]
  },
  {
   "attachments": {},
   "cell_type": "markdown",
   "metadata": {},
   "source": [
    "<span style=\"color:#ff6200;\">Exercise 1.7:</span>"
   ]
  },
  {
   "cell_type": "code",
   "execution_count": 13,
   "metadata": {},
   "outputs": [],
   "source": [
    "debt_interest = 16/100\n",
    "debt = 2023.5\n",
    "m = 12\n",
    "debt_two_months_later = debt*(1 + debt_interest / m)**2"
   ]
  },
  {
   "attachments": {},
   "cell_type": "markdown",
   "metadata": {},
   "source": [
    "_<span style=\"color:#ff6200;\">Answer:</span>_"
   ]
  },
  {
   "cell_type": "code",
   "execution_count": 14,
   "metadata": {},
   "outputs": [
    {
     "data": {
      "text/plain": [
       "2077.8197333333337"
      ]
     },
     "execution_count": 14,
     "metadata": {},
     "output_type": "execute_result"
    }
   ],
   "source": [
    "debt_two_months_later"
   ]
  },
  {
   "attachments": {},
   "cell_type": "markdown",
   "metadata": {},
   "source": [
    "<span style=\"color:#ff6200;\">Exercise 1.8:</span>"
   ]
  },
  {
   "cell_type": "code",
   "execution_count": 15,
   "metadata": {},
   "outputs": [],
   "source": [
    "investment_amount = 1\n",
    "time_of_investment = 1776\n",
    "end_of_investment = 2020\n",
    "investment_nominal_interest = 3.3/100\n",
    "\n",
    "duration_of_investment = end_of_investment - time_of_investment\n",
    "investment_value_today_a = investment_amount*(1 + investment_nominal_interest)**duration_of_investment\n",
    "\n",
    "investment_nominal_interest = 6.6/100\n",
    "investment_value_today_b = investment_amount*(1 + investment_nominal_interest)**duration_of_investment"
   ]
  },
  {
   "attachments": {},
   "cell_type": "markdown",
   "metadata": {},
   "source": [
    "_<span style=\"color:#ff6200;\">Answer:</span>_"
   ]
  },
  {
   "cell_type": "code",
   "execution_count": 16,
   "metadata": {},
   "outputs": [
    {
     "data": {
      "text/plain": [
       "(2757.2646365257324, 5925949.477128423)"
      ]
     },
     "execution_count": 16,
     "metadata": {},
     "output_type": "execute_result"
    }
   ],
   "source": [
    "investment_value_today_a, investment_value_today_b"
   ]
  },
  {
   "attachments": {},
   "cell_type": "markdown",
   "metadata": {},
   "source": [
    "<span style=\"color:#ff6200;\">Exercise 1.8:</span>"
   ]
  },
  {
   "cell_type": "code",
   "execution_count": 17,
   "metadata": {},
   "outputs": [],
   "source": [
    "prize_interest = 10/100\n",
    "prize = 10*10**6\n",
    "n = 20\n",
    "yearly_prizes = [(prize / n) * (1 + prize_interest)**-k for k in range(0, n)]"
   ]
  },
  {
   "attachments": {},
   "cell_type": "markdown",
   "metadata": {},
   "source": [
    "_<span style=\"color:#ff6200;\">Answer:</span>_"
   ]
  },
  {
   "cell_type": "code",
   "execution_count": 18,
   "metadata": {},
   "outputs": [
    {
     "data": {
      "text/plain": [
       "4682460.045867208"
      ]
     },
     "execution_count": 18,
     "metadata": {},
     "output_type": "execute_result"
    }
   ],
   "source": [
    "sum(yearly_prizes)"
   ]
  },
  {
   "attachments": {},
   "cell_type": "markdown",
   "metadata": {},
   "source": [
    "<span style=\"color:#ff6200; \">Section: 2.1.1</span>"
   ]
  },
  {
   "attachments": {},
   "cell_type": "markdown",
   "metadata": {},
   "source": [
    "<span style=\"color:#ff6200;\">Exercise 2.1:</span>"
   ]
  },
  {
   "cell_type": "code",
   "execution_count": 19,
   "metadata": {},
   "outputs": [],
   "source": [
    "investment_a = [300, 0, 230, 0, 300]\n",
    "investment_b = [0, 100, 120, 100, 550]\n",
    "maturities = [6, 12, 18, 24, 36]\n",
    "interest_bank = (8/100)\n",
    "m = 12\n",
    "\n",
    "def investment_today_value(investment_vector: list, maturity_vector: list):\n",
    "    sum_so_far = 0\n",
    "    for i in range(len(investment_vector)):\n",
    "        sum_so_far += investment_vector[i]*(1 + interest_bank / m)**-maturity_vector[i]\n",
    "    return sum_so_far"
   ]
  },
  {
   "attachments": {},
   "cell_type": "markdown",
   "metadata": {},
   "source": [
    "_<span style=\"color:#ff6200;\">Answer:</span>_"
   ]
  },
  {
   "cell_type": "code",
   "execution_count": 20,
   "metadata": {},
   "outputs": [
    {
     "data": {
      "text/plain": [
       "(728.5244373393929, 717.0586742822763)"
      ]
     },
     "execution_count": 20,
     "metadata": {},
     "output_type": "execute_result"
    }
   ],
   "source": [
    "investment_today_value(investment_a, maturities), investment_today_value(investment_b, maturities)\n",
    "# investment_a is more profitable as a result"
   ]
  },
  {
   "attachments": {},
   "cell_type": "markdown",
   "metadata": {},
   "source": [
    "<span style=\"color:#ff6200;\">Exercise 2.2:</span>"
   ]
  },
  {
   "cell_type": "code",
   "execution_count": 21,
   "metadata": {},
   "outputs": [],
   "source": [
    "car_price_now = 20690 \n",
    "nominal_yearly_rate = 6 / 100\n",
    "m = 12\n",
    "n = 60\n",
    "budget = 550\n",
    "\n",
    "def car_monthly_payment(car_price, car_interest_rate, maturity):\n",
    "    A = car_price_now * ( nominal_yearly_rate / m) / ( 1 - 1 / (1 + nominal_yearly_rate / m)**n )\n",
    "    return A"
   ]
  },
  {
   "attachments": {},
   "cell_type": "markdown",
   "metadata": {},
   "source": [
    "_<span style=\"color:#ff6200;\">Answer:</span>_"
   ]
  },
  {
   "cell_type": "code",
   "execution_count": 22,
   "metadata": {},
   "outputs": [
    {
     "data": {
      "text/plain": [
       "(399.99566364387084, False)"
      ]
     },
     "execution_count": 22,
     "metadata": {},
     "output_type": "execute_result"
    }
   ],
   "source": [
    "car_loan_monthly = car_monthly_payment(car_price_now, nominal_yearly_rate, n)\n",
    "car_loan_monthly,  car_loan_monthly + 60 + 100 + 70 + 50 <= budget"
   ]
  },
  {
   "attachments": {},
   "cell_type": "markdown",
   "metadata": {},
   "source": [
    "<span style=\"color:#ff6200;\">Exercise 2.3</span>"
   ]
  },
  {
   "cell_type": "code",
   "execution_count": 23,
   "metadata": {},
   "outputs": [],
   "source": [
    "belgian_bond_traded_value = 101500\n",
    "bond_yield = 1.5 / 100 \n",
    "bond_face_value = 100000\n",
    "maturity = 3\n",
    "\n",
    "def belgian_coupon_value(traded_value, belgian_yield, face_value, maturity):\n",
    "    C = (traded_value - face_value / (1 + belgian_yield)**maturity) / sum( [ 1 / (1 + belgian_yield)**i for i in range(1, maturity+1)] )\n",
    "    return C"
   ]
  },
  {
   "attachments": {},
   "cell_type": "markdown",
   "metadata": {},
   "source": [
    "_<span style=\"color:#ff6200;\">Answer:</span>_"
   ]
  },
  {
   "cell_type": "code",
   "execution_count": 24,
   "metadata": {},
   "outputs": [
    {
     "data": {
      "text/plain": [
       "2015.0744403122778"
      ]
     },
     "execution_count": 24,
     "metadata": {},
     "output_type": "execute_result"
    }
   ],
   "source": [
    "belgian_coupon_value(belgian_bond_traded_value, bond_yield, bond_face_value, maturity)"
   ]
  },
  {
   "attachments": {},
   "cell_type": "markdown",
   "metadata": {},
   "source": [
    "<span style=\"color:#ff6200;\">Exercise 2.4</span>"
   ]
  },
  {
   "cell_type": "code",
   "execution_count": 25,
   "metadata": {},
   "outputs": [],
   "source": [
    "machine_cost = 300000\n",
    "yearly_revenue_machine = 40000\n",
    "maturity = 10\n",
    "our_interest = 7.3 / 100 \n",
    "\n",
    "def annual_amount_machine(machine_loan, interest_rate, maturity):\n",
    "    A = machine_loan * interest_rate / (1 - 1 / (1 + interest_rate)**maturity)\n",
    "    return A "
   ]
  },
  {
   "attachments": {},
   "cell_type": "markdown",
   "metadata": {},
   "source": [
    "_<span style=\"color:#ff6200;\">Answer:</span>_"
   ]
  },
  {
   "cell_type": "code",
   "execution_count": 26,
   "metadata": {},
   "outputs": [
    {
     "data": {
      "text/plain": [
       "(43307.49431744398, False)"
      ]
     },
     "execution_count": 26,
     "metadata": {},
     "output_type": "execute_result"
    }
   ],
   "source": [
    "annual_amount = annual_amount_machine(machine_cost,  our_interest, maturity)\n",
    "annual_amount, annual_amount - machine_cost >= 0"
   ]
  },
  {
   "attachments": {},
   "cell_type": "markdown",
   "metadata": {},
   "source": [
    "<span style=\"color:#ff6200;\">Exercise 2.5</span>"
   ]
  },
  {
   "cell_type": "code",
   "execution_count": 27,
   "metadata": {},
   "outputs": [
    {
     "name": "stdout",
     "output_type": "stream",
     "text": [
      "solutions: [0.0897810030330259, -2.03601756217281]\n"
     ]
    }
   ],
   "source": [
    "from sympy import symbols, solve\n",
    "\n",
    "coupon_money = 5\n",
    "face_money = 100\n",
    "coupon_bond = 93\n",
    "\n",
    "r = symbols('r')\n",
    "expr = coupon_money*(1 + r)**-1 + (coupon_money + face_money)*(1 + r)**-2 - coupon_bond\n",
    "solutions = solve(expr)\n",
    "solutions = [sol.evalf() for sol in solutions]\n",
    "print(f'solutions: {solutions}')\n",
    "yield_to_maturity = solutions[0]\n",
    "\n",
    "zero_bond_valuation = face_money / (1 + yield_to_maturity)**2\n"
   ]
  },
  {
   "attachments": {},
   "cell_type": "markdown",
   "metadata": {},
   "source": [
    "_<span style=\"color:#ff6200;\">Answer:</span>_"
   ]
  },
  {
   "cell_type": "code",
   "execution_count": 28,
   "metadata": {},
   "outputs": [
    {
     "data": {
      "text/latex": [
       "$\\displaystyle 84.2018306901555$"
      ],
      "text/plain": [
       "84.2018306901555"
      ]
     },
     "execution_count": 28,
     "metadata": {},
     "output_type": "execute_result"
    }
   ],
   "source": [
    "zero_bond_valuation"
   ]
  },
  {
   "attachments": {},
   "cell_type": "markdown",
   "metadata": {},
   "source": [
    "<span style=\"color:#ff6200;\">Exercise 2.7</span>"
   ]
  },
  {
   "cell_type": "code",
   "execution_count": 29,
   "metadata": {},
   "outputs": [
    {
     "name": "stdout",
     "output_type": "stream",
     "text": [
      "13.648762604059007 $\n",
      "8.648762604059007 $, 2.9505118845198037 $\n",
      "0.9425959091337544 $, 0.8548041910297257 $\n"
     ]
    }
   ],
   "source": [
    "from sympy import symbols, Eq, solve\n",
    "\n",
    "millions_payments = [5, 1, 2, 3, 4]\n",
    "maturities = [0, 1, 2, 3, 4]\n",
    "loan_interest = 5 / 100\n",
    "now_obligation = [millions_payments[i] * (1 + loan_interest)**-i for  i in range(0, maturities[4] + 1)]\n",
    "now_obligation_money = sum(now_obligation)\n",
    "print(f'{now_obligation_money} $')\n",
    "\n",
    "durations = [maturities[i] * now_obligation[i] for i in range(1, maturities[4] + 1)] \n",
    "later_obligation = [millions_payments[i] * (1 + loan_interest)**-i for  i in range(1, maturities[4] + 1)]\n",
    "later_obligation_money = sum(later_obligation)\n",
    "now_duration = sum(durations) / later_obligation_money\n",
    "print(f'{later_obligation_money} $, {now_duration} $')\n",
    "\n",
    "face = 1\n",
    "bond1_maturity, bond2_maturity = 2, 4\n",
    "ytm1, ytm2 = loan_interest - 2 / 100, loan_interest - 1 / 100\n",
    "zero1_now_value = face * (1 + ytm1)**-bond1_maturity\n",
    "zero2_now_value = face * (1 + ytm2)**-bond2_maturity\n",
    "print(f'{zero1_now_value} $, {zero2_now_value} $')\n",
    "\n",
    "duration1 = bond1_maturity\n",
    "duration2 = bond2_maturity\n",
    "\n",
    "a, b = symbols('a b')\n",
    "eq1 = Eq( a * zero1_now_value + b * zero2_now_value, later_obligation_money)\n",
    "eq2 = Eq( a * zero1_now_value * duration1 + b * zero2_now_value * duration2, now_duration * later_obligation_money)\n",
    "solution = solve((eq1, eq2), (a, b))"
   ]
  },
  {
   "attachments": {},
   "cell_type": "markdown",
   "metadata": {},
   "source": [
    "_<span style=\"color:#ff6200;\">Answer:</span>_"
   ]
  },
  {
   "cell_type": "code",
   "execution_count": 30,
   "metadata": {},
   "outputs": [
    {
     "data": {
      "text/plain": [
       "{a: 4.81477453838681, b: 4.80855833874978}"
      ]
     },
     "execution_count": 30,
     "metadata": {},
     "output_type": "execute_result"
    }
   ],
   "source": [
    "solution"
   ]
  },
  {
   "attachments": {},
   "cell_type": "markdown",
   "metadata": {},
   "source": [
    "<span style=\"color:#ff6200;\">Exercise 2.9</span>"
   ]
  },
  {
   "cell_type": "code",
   "execution_count": 31,
   "metadata": {},
   "outputs": [],
   "source": [
    "interest_rate_loan = 7 / 100\n",
    "maturity = 84\n",
    "debt = 25000\n",
    "m = 12\n",
    "loan_later = debt * (1 + interest_rate_loan / m)**maturity\n",
    "month_money = loan_later / sum( [ (1 + interest_rate_loan / m)**(maturity - i) for i in range(1, maturity + 1)] )"
   ]
  },
  {
   "attachments": {},
   "cell_type": "markdown",
   "metadata": {},
   "source": [
    "_<span style=\"color:#ff6200;\">Answer:</span>_"
   ]
  },
  {
   "cell_type": "code",
   "execution_count": 32,
   "metadata": {},
   "outputs": [
    {
     "data": {
      "text/plain": [
       "377.31699955473533"
      ]
     },
     "execution_count": 32,
     "metadata": {},
     "output_type": "execute_result"
    }
   ],
   "source": [
    "month_money"
   ]
  },
  {
   "attachments": {},
   "cell_type": "markdown",
   "metadata": {},
   "source": [
    "<span style=\"color:#ff6200;\">Exercise 2.13</span>"
   ]
  },
  {
   "cell_type": "code",
   "execution_count": 33,
   "metadata": {},
   "outputs": [],
   "source": [
    "bond_maturity = 18\n",
    "bond_yield = 9 / 100\n",
    "bond_face = 100\n",
    "coupon_money = bond_face * 8 / 100\n",
    "bond_money_now = sum( [ coupon_money * (1 + bond_yield)**-i for i in range(1, bond_maturity + 1)] ) + bond_face * (1 + bond_yield)**-bond_maturity"
   ]
  },
  {
   "attachments": {},
   "cell_type": "markdown",
   "metadata": {},
   "source": [
    "_<span style=\"color:#ff6200;\">Answer:</span>_"
   ]
  },
  {
   "cell_type": "code",
   "execution_count": 34,
   "metadata": {},
   "outputs": [
    {
     "data": {
      "text/plain": [
       "91.24437489055896"
      ]
     },
     "execution_count": 34,
     "metadata": {},
     "output_type": "execute_result"
    }
   ],
   "source": [
    "bond_money_now"
   ]
  },
  {
   "attachments": {},
   "cell_type": "markdown",
   "metadata": {},
   "source": [
    "<span style=\"color:#ff6200;\">Exercise 2.14</span>"
   ]
  },
  {
   "cell_type": "code",
   "execution_count": 35,
   "metadata": {},
   "outputs": [],
   "source": [
    "bond_maturity = 10\n",
    "bond_yield = 10 / 100\n",
    "bond_face = 100\n",
    "coupon_money = bond_face * 8 / 100\n",
    "bond_money_coupons_today = [ coupon_money * (1 + bond_yield)**-i for i in range(1, bond_maturity + 1)]\n",
    "bond_money_principle_today = bond_face * (1 + bond_yield)**-bond_maturity\n",
    "bond_money_today = sum(bond_money_coupons_today) + bond_money_principle_today\n",
    "duration_bond = bond_money_today**-1 * ( sum( [i * bond_money_coupons_today[i - 1] for i in range(1, bond_maturity + 1)] ) + bond_maturity * bond_money_principle_today)\n"
   ]
  },
  {
   "attachments": {},
   "cell_type": "markdown",
   "metadata": {},
   "source": [
    "_<span style=\"color:#ff6200;\">Answer:</span>_"
   ]
  },
  {
   "cell_type": "code",
   "execution_count": 36,
   "metadata": {},
   "outputs": [
    {
     "data": {
      "text/plain": [
       "(87.71086578859058, 7.043945554899372)"
      ]
     },
     "execution_count": 36,
     "metadata": {},
     "output_type": "execute_result"
    }
   ],
   "source": [
    "bond_money_today, duration_bond"
   ]
  },
  {
   "attachments": {},
   "cell_type": "markdown",
   "metadata": {},
   "source": [
    "<span style=\"color:#ff6200;\">Exercise 2.16</span>"
   ]
  },
  {
   "cell_type": "code",
   "execution_count": 37,
   "metadata": {},
   "outputs": [
    {
     "name": "stdout",
     "output_type": "stream",
     "text": [
      "885.838744143996 $, 771.677488287992 $, 657.5162324319883 $, 869.5652173913045 $\n",
      "2.71831508628688, 2.83832143998296, 3, 1\n"
     ]
    }
   ],
   "source": [
    "from sympy import symbols, summation\n",
    "\n",
    "bond_maturity = 3\n",
    "bond_yield = 15 / 100\n",
    "bond1_face, bond2_face, bond3_face = 10**3, 10**3, 10**3\n",
    "bond1_coupon_money, bond2_coupon_money = 100, 50\n",
    "\n",
    "i, j = symbols('i j')\n",
    "\n",
    "expr1 = bond1_coupon_money * (1 + bond_yield)**-i\n",
    "expr2 = bond2_coupon_money * (1 + bond_yield)**-j\n",
    "\n",
    "bond1_money_today = summation(expr1, (i, 1, bond_maturity)) + bond1_face * (1 + bond_yield)**-bond_maturity\n",
    "bond2_money_today = summation(expr2, (j, 1, bond_maturity)) + bond2_face * (1 + bond_yield)**-bond_maturity\n",
    "bond3_money_today = bond3_face * (1 + bond_yield)**-bond_maturity\n",
    "bond4_money_today = 1000 * (1 + bond_yield)**-1\n",
    "\n",
    "print(f'{bond1_money_today} $, {bond2_money_today} $, {bond3_money_today} $, {bond4_money_today} $')\n",
    "\n",
    "expr1_dur = i * expr1\n",
    "expr2_dur = j * expr2\n",
    "dur1 = bond1_money_today**-1 * ( summation(expr1_dur, (i, 1, bond_maturity)) + bond_maturity * bond1_face * (1 + bond_yield)**-bond_maturity )\n",
    "dur2 = bond2_money_today**-1 * ( summation(expr2_dur, (j, 1, bond_maturity)) + bond_maturity * bond2_face * (1 + bond_yield)**-bond_maturity )\n",
    "dur3 = 3\n",
    "dur4 = 1\n",
    "\n",
    "print(f'{dur1}, {dur2}, {dur3}, {dur4}')\n",
    "\n",
    "loan_later = 2000\n",
    "loan_maturity = 2\n",
    "loan_today = loan_later * (1 + bond_yield)**-loan_maturity\n",
    "dur_loan = loan_maturity\n",
    "a, b, c, d = symbols('a, b, c, d')\n",
    "eq1 = Eq( a * bond1_money_today + b * bond2_money_today + c * bond3_money_today + d * bond4_money_today, loan_today)\n",
    "eq2 = Eq( a * dur1 * bond1_money_today + b * dur2 * bond2_money_today + c * dur3 * bond3_money_today + d * dur4 * bond4_money_today, dur_loan * loan_today)\n",
    "solution = solve((eq1, eq2), (a, b, c, d))"
   ]
  },
  {
   "attachments": {},
   "cell_type": "markdown",
   "metadata": {},
   "source": [
    "_<span style=\"color:#ff6200;\">Answer:</span>_"
   ]
  },
  {
   "cell_type": "code",
   "execution_count": 38,
   "metadata": {},
   "outputs": [
    {
     "data": {
      "text/plain": [
       "{a: 0.999999999999906*c - 15.0371212121209*d + 11.9257575757572,\n",
       " b: -1.99999999999989*c + 16.1348484848481*d - 11.7303030303026}"
      ]
     },
     "execution_count": 38,
     "metadata": {},
     "output_type": "execute_result"
    }
   ],
   "source": [
    "solution\n"
   ]
  }
 ],
 "metadata": {
  "kernelspec": {
   "display_name": "Python 3 (ipykernel)",
   "language": "python",
   "name": "python3"
  },
  "language_info": {
   "codemirror_mode": {
    "name": "ipython",
    "version": 3
   },
   "file_extension": ".py",
   "mimetype": "text/x-python",
   "name": "python",
   "nbconvert_exporter": "python",
   "pygments_lexer": "ipython3",
   "version": "3.11.2"
  }
 },
 "nbformat": 4,
 "nbformat_minor": 1
}
