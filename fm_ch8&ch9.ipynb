{
 "cells": [
  {
   "cell_type": "code",
   "execution_count": 14,
   "metadata": {},
   "outputs": [],
   "source": [
    "from general import General\n",
    "general = General()"
   ]
  },
  {
   "attachments": {},
   "cell_type": "markdown",
   "metadata": {},
   "source": [
    "<span style=\"color:#ff6200; \">Section: 8.1.1</span>"
   ]
  },
  {
   "attachments": {},
   "cell_type": "markdown",
   "metadata": {},
   "source": [
    "<span style=\"color:#ff6200;\">Exercise 8.1</span>"
   ]
  },
  {
   "attachments": {},
   "cell_type": "markdown",
   "metadata": {},
   "source": [
    "_<span style=\"color:#ff6200;\">Answer:</span>_"
   ]
  },
  {
   "cell_type": "code",
   "execution_count": 15,
   "metadata": {},
   "outputs": [],
   "source": [
    "# Basic Answer\n",
    "# It is not profitable to exercise the option now, \n",
    "# when the strike price is < 37, the investor will\n",
    "# start making profit and the option will be in the money\n",
    "#\n",
    "# In-depth Answer\n",
    "# The value of the investment will grow with the compounding\n",
    "# interest, the payoff of the put option is max{K - St}, where\n",
    "# K is the strike price and St is the stock price at maturity.\n",
    "# Compounding is continuous, so e**(r * deltaT), then the profit\n",
    "# from put option (in case it is in the money) would be \n",
    "# (K - St) - 3 * e**(r * deltaT), where 3 is the investment\n",
    "# if (K - St) - 3 * e**(r * deltaT) >! 0, then making the\n",
    "# investment is unreasonable as there will be no profit made from it"
   ]
  },
  {
   "attachments": {},
   "cell_type": "markdown",
   "metadata": {},
   "source": [
    "<span style=\"color:#ff6200;\">Exercise 8.2</span>"
   ]
  },
  {
   "cell_type": "code",
   "execution_count": 16,
   "metadata": {},
   "outputs": [],
   "source": [
    "import numpy as np\n",
    "sig = 0.2\n",
    "rf = 0.06\n",
    "deltaT = 1\n",
    "u = np.e**(sig * deltaT**0.5)\n",
    "d = u**-1\n"
   ]
  },
  {
   "cell_type": "code",
   "execution_count": 17,
   "metadata": {},
   "outputs": [
    {
     "name": "stdout",
     "output_type": "stream",
     "text": [
      "-----binom-lattice-----\n",
      "[100]\n",
      "[105.0, 95.0]\n",
      "[110.25, 99.75, 99.75, 90.25]\n",
      "[115.7625, 104.7375, 104.73750000000001, 94.76249999999999, 104.73750000000001, 94.76249999999999, 94.7625, 85.7375]\n"
     ]
    }
   ],
   "source": [
    "general.bindomrender( general.binomt(3, 1.05, 0.95, 100) )"
   ]
  },
  {
   "cell_type": "code",
   "execution_count": 18,
   "metadata": {},
   "outputs": [
    {
     "ename": "AttributeError",
     "evalue": "'General' object has no attribute 'callput'",
     "output_type": "error",
     "traceback": [
      "\u001b[1;31m---------------------------------------------------------------------------\u001b[0m",
      "\u001b[1;31mAttributeError\u001b[0m                            Traceback (most recent call last)",
      "Cell \u001b[1;32mIn[18], line 2\u001b[0m\n\u001b[0;32m      1\u001b[0m arr \u001b[39m=\u001b[39m general\u001b[39m.\u001b[39mbinomt(\u001b[39m3\u001b[39m, \u001b[39m1.05\u001b[39m, \u001b[39m0.95\u001b[39m, \u001b[39m100\u001b[39m)\n\u001b[1;32m----> 2\u001b[0m general\u001b[39m.\u001b[39;49mcallput(arr, \u001b[39m-\u001b[39m\u001b[39m1\u001b[39m, \u001b[39m100\u001b[39m, \u001b[39m'\u001b[39m\u001b[39mp\u001b[39m\u001b[39m'\u001b[39m)\n",
      "\u001b[1;31mAttributeError\u001b[0m: 'General' object has no attribute 'callput'"
     ]
    }
   ],
   "source": [
    "arr = general.binomt(3, 1.05, 0.95, 100)\n",
    "general.option(arr, -1, 100, 'p')"
   ]
  }
 ],
 "metadata": {
  "kernelspec": {
   "display_name": "Python 3",
   "language": "python",
   "name": "python3"
  },
  "language_info": {
   "codemirror_mode": {
    "name": "ipython",
    "version": 3
   },
   "file_extension": ".py",
   "mimetype": "text/x-python",
   "name": "python",
   "nbconvert_exporter": "python",
   "pygments_lexer": "ipython3",
   "version": "3.11.2"
  },
  "orig_nbformat": 4
 },
 "nbformat": 4,
 "nbformat_minor": 2
}
