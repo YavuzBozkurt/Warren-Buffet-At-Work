{
 "cells": [
  {
   "cell_type": "code",
   "execution_count": 1,
   "metadata": {},
   "outputs": [
    {
     "ename": "TypeError",
     "evalue": "object of type 'float' has no len()",
     "output_type": "error",
     "traceback": [
      "\u001b[1;31m---------------------------------------------------------------------------\u001b[0m",
      "\u001b[1;31mTypeError\u001b[0m                                 Traceback (most recent call last)",
      "Cell \u001b[1;32mIn[1], line 1\u001b[0m\n\u001b[1;32m----> 1\u001b[0m \u001b[39mfrom\u001b[39;00m \u001b[39mgeneral\u001b[39;00m \u001b[39mimport\u001b[39;00m General\n\u001b[0;32m      2\u001b[0m general \u001b[39m=\u001b[39m General()\n",
      "File \u001b[1;32mc:\\Users\\20200710\\Desktop\\template\\Warren-Buffet-At-Work\\general.py:121\u001b[0m\n\u001b[0;32m    117\u001b[0m         \u001b[39mreturn\u001b[39;00m cp_tree\n\u001b[0;32m    120\u001b[0m general \u001b[39m=\u001b[39m General()\n\u001b[1;32m--> 121\u001b[0m general\u001b[39m.\u001b[39;49moption(general\u001b[39m.\u001b[39;49mbinomt(\u001b[39m3\u001b[39;49m, \u001b[39m1.05\u001b[39;49m, \u001b[39m0.95\u001b[39;49m, \u001b[39m100\u001b[39;49m),\n\u001b[0;32m    122\u001b[0m                \u001b[39m100\u001b[39;49m, \u001b[39m'\u001b[39;49m\u001b[39mc\u001b[39;49m\u001b[39m'\u001b[39;49m, \u001b[39m1.05\u001b[39;49m, \u001b[39m0.95\u001b[39;49m, \u001b[39m0.06\u001b[39;49m, \u001b[39m1\u001b[39;49m)\n",
      "File \u001b[1;32mc:\\Users\\20200710\\Desktop\\template\\Warren-Buffet-At-Work\\general.py:116\u001b[0m, in \u001b[0;36mGeneral.option\u001b[1;34m(self, arr, K, type, u, d, r, t)\u001b[0m\n\u001b[0;32m    112\u001b[0m cp_tree\u001b[39m.\u001b[39mappend(\n\u001b[0;32m    113\u001b[0m     payoffs()\n\u001b[0;32m    114\u001b[0m )\n\u001b[0;32m    115\u001b[0m R \u001b[39m=\u001b[39m np\u001b[39m.\u001b[39me\u001b[39m*\u001b[39m\u001b[39m*\u001b[39m(r\u001b[39m*\u001b[39mt)\n\u001b[1;32m--> 116\u001b[0m cp_tree \u001b[39m=\u001b[39m backprop(cp_tree, \u001b[39mlen\u001b[39;49m(cp_tree)\u001b[39m-\u001b[39;49m\u001b[39m1\u001b[39;49m,  u, d, R)\n\u001b[0;32m    117\u001b[0m \u001b[39mreturn\u001b[39;00m cp_tree\n",
      "File \u001b[1;32mc:\\Users\\20200710\\Desktop\\template\\Warren-Buffet-At-Work\\general.py:103\u001b[0m, in \u001b[0;36mGeneral.option.<locals>.backprop\u001b[1;34m(cp_tree, l, u, d, R)\u001b[0m\n\u001b[0;32m     98\u001b[0m     lst\u001b[39m.\u001b[39mappend(\n\u001b[0;32m     99\u001b[0m         R\u001b[39m*\u001b[39m\u001b[39m*\u001b[39m\u001b[39m-\u001b[39m\u001b[39m1\u001b[39m \u001b[39m*\u001b[39m ((R \u001b[39m-\u001b[39m d) \u001b[39m/\u001b[39m (u \u001b[39m-\u001b[39m d) \u001b[39m*\u001b[39m\n\u001b[0;32m    100\u001b[0m                  now[i] \u001b[39m+\u001b[39m (u \u001b[39m-\u001b[39m R) \u001b[39m/\u001b[39m (u \u001b[39m-\u001b[39m d) \u001b[39m*\u001b[39m now[i \u001b[39m+\u001b[39m \u001b[39m1\u001b[39m])\n\u001b[0;32m    101\u001b[0m     )\n\u001b[0;32m    102\u001b[0m cp_tree[:l\u001b[39m-\u001b[39m\u001b[39m2\u001b[39m] \u001b[39m=\u001b[39m lst\n\u001b[1;32m--> 103\u001b[0m cp_tree \u001b[39m=\u001b[39m backprop(cp_tree, l\u001b[39m-\u001b[39;49m\u001b[39m1\u001b[39;49m, u, d, R)\n\u001b[0;32m    104\u001b[0m \u001b[39mreturn\u001b[39;00m cp_tree\n",
      "File \u001b[1;32mc:\\Users\\20200710\\Desktop\\template\\Warren-Buffet-At-Work\\general.py:92\u001b[0m, in \u001b[0;36mGeneral.option.<locals>.backprop\u001b[1;34m(cp_tree, l, u, d, R)\u001b[0m\n\u001b[0;32m     90\u001b[0m \u001b[39mdef\u001b[39;00m \u001b[39mbackprop\u001b[39m(cp_tree, l, u, d, R):\n\u001b[1;32m---> 92\u001b[0m     \u001b[39mif\u001b[39;00m \u001b[39mlen\u001b[39;49m(cp_tree[l]) \u001b[39m==\u001b[39m \u001b[39m1\u001b[39m:\n\u001b[0;32m     93\u001b[0m         \u001b[39mreturn\u001b[39;00m cp_tree\n\u001b[0;32m     95\u001b[0m     lst \u001b[39m=\u001b[39m []\n",
      "\u001b[1;31mTypeError\u001b[0m: object of type 'float' has no len()"
     ]
    }
   ],
   "source": [
    "from general import General\n",
    "general = General()"
   ]
  },
  {
   "attachments": {},
   "cell_type": "markdown",
   "metadata": {},
   "source": [
    "<span style=\"color:#ff6200; \">Section: 8.1.1</span>"
   ]
  },
  {
   "attachments": {},
   "cell_type": "markdown",
   "metadata": {},
   "source": [
    "<span style=\"color:#ff6200;\">Exercise 8.1</span>"
   ]
  },
  {
   "attachments": {},
   "cell_type": "markdown",
   "metadata": {},
   "source": [
    "_<span style=\"color:#ff6200;\">Answer:</span>_"
   ]
  },
  {
   "cell_type": "code",
   "execution_count": null,
   "metadata": {},
   "outputs": [],
   "source": [
    "# Basic Answer\n",
    "# It is not profitable to exercise the option now, \n",
    "# when the strike price is < 37, the investor will\n",
    "# start making profit and the option will be in the money\n",
    "#\n",
    "# In-depth Answer\n",
    "# The value of the investment will grow with the compounding\n",
    "# interest, the payoff of the put option is max{K - St}, where\n",
    "# K is the strike price and St is the stock price at maturity.\n",
    "# Compounding is continuous, so e**(r * deltaT), then the profit\n",
    "# from put option (in case it is in the money) would be \n",
    "# (K - St) - 3 * e**(r * deltaT), where 3 is the investment\n",
    "# if (K - St) - 3 * e**(r * deltaT) >! 0, then making the\n",
    "# investment is unreasonable as there will be no profit made from it"
   ]
  },
  {
   "attachments": {},
   "cell_type": "markdown",
   "metadata": {},
   "source": [
    "<span style=\"color:#ff6200;\">Exercise 8.2</span>"
   ]
  },
  {
   "cell_type": "code",
   "execution_count": null,
   "metadata": {},
   "outputs": [],
   "source": [
    "import numpy as np\n",
    "sig = 0.2\n",
    "rf = 0.06\n",
    "deltaT = 1\n",
    "u = np.e**(sig * deltaT**0.5)\n",
    "d = u**-1\n",
    "K = 100\n"
   ]
  },
  {
   "cell_type": "code",
   "execution_count": null,
   "metadata": {},
   "outputs": [
    {
     "name": "stdout",
     "output_type": "stream",
     "text": [
      "-----binom-lattice-----\n",
      "[100]\n",
      "[105.0, 95.0]\n",
      "[110.25, 99.75, 99.75, 90.25]\n",
      "[115.7625, 104.7375, 104.73750000000001, 94.76249999999999, 104.73750000000001, 94.76249999999999, 94.7625, 85.7375]\n"
     ]
    }
   ],
   "source": [
    "general.bindomrender( general.binomt(3, 1.05, 0.95, 100) )"
   ]
  },
  {
   "cell_type": "code",
   "execution_count": null,
   "metadata": {},
   "outputs": [
    {
     "name": "stdout",
     "output_type": "stream",
     "text": [
      "[[None], [None, None], [None, None, None, None], [82.2118800390509, 22.14027581601698, 22.14027581601698, 0, 22.14027581601698, 0, 0, 0]]\n"
     ]
    }
   ],
   "source": [
    "print(general.option(general.binomt(3, u, d, K), K, 'c', u, d, rf, 1))"
   ]
  }
 ],
 "metadata": {
  "kernelspec": {
   "display_name": "Python 3",
   "language": "python",
   "name": "python3"
  },
  "language_info": {
   "codemirror_mode": {
    "name": "ipython",
    "version": 3
   },
   "file_extension": ".py",
   "mimetype": "text/x-python",
   "name": "python",
   "nbconvert_exporter": "python",
   "pygments_lexer": "ipython3",
   "version": "3.11.2"
  },
  "orig_nbformat": 4
 },
 "nbformat": 4,
 "nbformat_minor": 2
}
