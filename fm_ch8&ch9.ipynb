{
 "cells": [
  {
   "cell_type": "code",
   "execution_count": 48,
   "metadata": {},
   "outputs": [],
   "source": [
    "from general import General\n",
    "general = General()"
   ]
  },
  {
   "attachments": {},
   "cell_type": "markdown",
   "metadata": {},
   "source": [
    "<span style=\"color:#ff6200; \">Section: 8.1.1</span>"
   ]
  },
  {
   "attachments": {},
   "cell_type": "markdown",
   "metadata": {},
   "source": [
    "<span style=\"color:#ff6200;\">Exercise 8.1</span>"
   ]
  },
  {
   "attachments": {},
   "cell_type": "markdown",
   "metadata": {},
   "source": [
    "_<span style=\"color:#ff6200;\">Answer:</span>_"
   ]
  },
  {
   "cell_type": "code",
   "execution_count": 49,
   "metadata": {},
   "outputs": [],
   "source": [
    "# Basic Answer\n",
    "# It is not profitable to exercise the option now, \n",
    "# when the strike price is < 37, the investor will\n",
    "# start making profit and the option will be in the money\n",
    "#\n",
    "# In-depth Answer\n",
    "# The value of the investment will grow with the compounding\n",
    "# interest, the payoff of the put option is max{K - St}, where\n",
    "# K is the strike price and St is the stock price at maturity.\n",
    "# Compounding is continuous, so e**(r * deltaT), then the profit\n",
    "# from put option (in case it is in the money) would be \n",
    "# (K - St) - 3 * e**(r * deltaT), where 3 is the investment\n",
    "# if (K - St) - 3 * e**(r * deltaT) >! 0, then making the\n",
    "# investment is unreasonable as there will be no profit made from it"
   ]
  },
  {
   "attachments": {},
   "cell_type": "markdown",
   "metadata": {},
   "source": [
    "<span style=\"color:#ff6200;\">Exercise 8.2</span>"
   ]
  },
  {
   "cell_type": "code",
   "execution_count": 50,
   "metadata": {},
   "outputs": [],
   "source": [
    "import numpy as np\n",
    "sig = 0.2\n",
    "rf = 0.06\n",
    "deltaT = 1\n",
    "u = np.e**(sig * deltaT**0.5)\n",
    "d = u**-1\n",
    "K = 100\n"
   ]
  },
  {
   "attachments": {},
   "cell_type": "markdown",
   "metadata": {},
   "source": [
    "_<span style=\"color:#ff6200;\">Answer:</span>_"
   ]
  },
  {
   "cell_type": "code",
   "execution_count": 51,
   "metadata": {},
   "outputs": [
    {
     "name": "stdout",
     "output_type": "stream",
     "text": [
      "-----binom-lattice-----\n",
      "[23.124246089258502]\n",
      "[35.97280429244071, 7.15740235491472]\n",
      "[55.00601640570216, 12.5883621755978, 12.5883621755978, 0.0]\n",
      "[82.2118800390509, 22.14027581601698, 22.14027581601698, 0, 22.14027581601698, 0, 0, 0]\n"
     ]
    }
   ],
   "source": [
    "general.bindomrender((general.option(general.binomt(3, u, d, K), K, 'c', u, d, rf, 1)))"
   ]
  },
  {
   "attachments": {},
   "cell_type": "markdown",
   "metadata": {},
   "source": [
    "<span style=\"color:#ff6200;\">Exercise 8.3</span>"
   ]
  },
  {
   "attachments": {},
   "cell_type": "markdown",
   "metadata": {},
   "source": [
    "_<span style=\"color:#ff6200;\">Answer:</span>_"
   ]
  },
  {
   "cell_type": "code",
   "execution_count": 52,
   "metadata": {},
   "outputs": [],
   "source": [
    "# an American option is a superset of a European option, that is, it has the properties of a European\n",
    "# option, and has extensions to that, more precisely, that would be the right to exercise an option \n",
    "# that has not matured yet."
   ]
  },
  {
   "attachments": {},
   "cell_type": "markdown",
   "metadata": {},
   "source": [
    "<span style=\"color:#ff6200;\">Exercise 8.4</span>"
   ]
  },
  {
   "cell_type": "code",
   "execution_count": 53,
   "metadata": {},
   "outputs": [],
   "source": [
    "u = 1.2\n",
    "d = 0.8\n",
    "r = 0.05\n",
    "per = 2\n",
    "Δt = 1\n",
    "K = 52\n",
    "S = 50"
   ]
  },
  {
   "attachments": {},
   "cell_type": "markdown",
   "metadata": {},
   "source": [
    "_<span style=\"color:#ff6200;\">Answer:</span>_"
   ]
  },
  {
   "cell_type": "code",
   "execution_count": 54,
   "metadata": {},
   "outputs": [
    {
     "name": "stdout",
     "output_type": "stream",
     "text": [
      "-----binom-lattice-----\n",
      "[(2, 4.192654280603857)]\n",
      "[(0, 1.414753094008567), (12.0, 9.463930074037123)]\n",
      "[(0, 0), (4.0, 4.0), (4.0, 4.0), (20.0, 20.0)]\n",
      "-----binom-lattice-----\n",
      "[50]\n",
      "[60.0, 40.0]\n",
      "[72.0, 48.0, 48.0, 32.0]\n",
      "-----binom-lattice-----\n",
      "[4.192654280603857]\n",
      "[1.414753094008567, 9.463930074037123]\n",
      "[0, 4.0, 4.0, 20.0]\n"
     ]
    }
   ],
   "source": [
    "stock_tree = general.binomt(per, u, d, S)\n",
    "option_tree = general.option(stock_tree, K, 'p', u, d, r, Δt)\n",
    "american_tree = general.america_option(stock_tree, option_tree, 'p', K)\n",
    "general.bindomrender(american_tree)\n",
    "\n",
    "general.bindomrender(stock_tree)\n",
    "general.bindomrender(option_tree)\n",
    "# as visible, (12.0, 9.463930074037123) would be the case where\n",
    "# exercising the option early would be optimal for the investor"
   ]
  },
  {
   "attachments": {},
   "cell_type": "markdown",
   "metadata": {},
   "source": [
    "<span style=\"color:#ff6200;\">Exercise 8.5</span>"
   ]
  },
  {
   "cell_type": "code",
   "execution_count": 55,
   "metadata": {},
   "outputs": [],
   "source": [
    "# use the put call parity\n",
    "S = 19\n",
    "rf = 0.04\n",
    "K = 20\n",
    "c = 1\n",
    "Δt = 0.25\n",
    "d = (1 + rf)**-Δt\n",
    "\n",
    "p = c + d*K - S"
   ]
  },
  {
   "attachments": {},
   "cell_type": "markdown",
   "metadata": {},
   "source": [
    "_<span style=\"color:#ff6200;\">Answer:</span>_"
   ]
  },
  {
   "cell_type": "code",
   "execution_count": 56,
   "metadata": {},
   "outputs": [
    {
     "data": {
      "text/plain": [
       "1.8048547148513094"
      ]
     },
     "execution_count": 56,
     "metadata": {},
     "output_type": "execute_result"
    }
   ],
   "source": [
    "p"
   ]
  },
  {
   "attachments": {},
   "cell_type": "markdown",
   "metadata": {},
   "source": [
    "<span style=\"color:#ff6200;\">Exercise 8.6</span>"
   ]
  },
  {
   "cell_type": "code",
   "execution_count": 57,
   "metadata": {},
   "outputs": [
    {
     "data": {
      "text/plain": [
       "Text(0, 0.5, 'profit')"
      ]
     },
     "execution_count": 57,
     "metadata": {},
     "output_type": "execute_result"
    },
    {
     "data": {
      "image/png": "[encoded data removed]",
      "text/plain": [
       "<Figure size 640x480 with 1 Axes>"
      ]
     },
     "metadata": {},
     "output_type": "display_data"
    }
   ],
   "source": [
    "import matplotlib.pyplot as plt\n",
    "x = [0, 1, 2]\n",
    "y = [1, 0, -1]\n",
    "plt.plot(x, y)\n",
    "x1 = [0, 2]\n",
    "y1 = [0, 0]\n",
    "plt.plot(x1, y1, color='red')\n",
    "plt.plot(1, 0, 'ro')\n",
    "plt.text(1, 0, 'K', va='bottom')\n",
    "plt.xlabel('stock')\n",
    "plt.ylabel('profit')"
   ]
  },
  {
   "attachments": {},
   "cell_type": "markdown",
   "metadata": {},
   "source": [
    "_<span style=\"color:#ff6200;\">Answer:</span>_"
   ]
  },
  {
   "cell_type": "code",
   "execution_count": 58,
   "metadata": {},
   "outputs": [],
   "source": [
    "# the investor has a put option now, so he will make profit \n",
    "# in case if the stock goes down, letting him sell at a higher\n",
    "# price. If the stock goes up, then he will not exercise the put\n",
    "# option since it is not optimal to do so, however he will lose\n",
    "# the payoff money that could have been obtained via the call option\n",
    "# that he sold, causing loss in profit"
   ]
  },
  {
   "attachments": {},
   "cell_type": "markdown",
   "metadata": {},
   "source": [
    "<span style=\"color:#ff6200;\">Exercise 8.7</span>"
   ]
  },
  {
   "cell_type": "code",
   "execution_count": 59,
   "metadata": {},
   "outputs": [],
   "source": [
    "Kc = 45\n",
    "Kp = 40\n",
    "c = 3\n",
    "p = 4"
   ]
  },
  {
   "attachments": {},
   "cell_type": "markdown",
   "metadata": {},
   "source": [
    "_<span style=\"color:#ff6200;\">Answer:</span>_"
   ]
  },
  {
   "cell_type": "code",
   "execution_count": 60,
   "metadata": {},
   "outputs": [
    {
     "data": {
      "text/plain": [
       "Text(45, -7, '$K_{c}$')"
      ]
     },
     "execution_count": 60,
     "metadata": {},
     "output_type": "execute_result"
    },
    {
     "data": {
      "image/png": "[encoded data removed]",
      "text/plain": [
       "<Figure size 640x480 with 1 Axes>"
      ]
     },
     "metadata": {},
     "output_type": "display_data"
    }
   ],
   "source": [
    "def profit(S):\n",
    "    return (general.func_put(S, Kp) + general.func_call(S, Kc)) - (c + p)\n",
    "\n",
    "x = [i for i in range(25, 60+1)]\n",
    "y = [profit(s) for s in x]\n",
    "plt.plot(x, y)\n",
    "x1 = [25, 60]\n",
    "y1 = [0, 0]\n",
    "plt.plot(x1, y1, color='red')\n",
    "plt.xlabel('stock')\n",
    "plt.ylabel('profit')\n",
    "plt.plot(Kp, - (c + p), 'ro')\n",
    "plt.text(Kp, - (c + p), '$K_{p}$', va='bottom')\n",
    "plt.plot(Kc, - (c + p), 'ro')\n",
    "plt.text(Kc, - (c + p), '$K_{c}$', va='bottom', ha='right')"
   ]
  },
  {
   "attachments": {},
   "cell_type": "markdown",
   "metadata": {},
   "source": [
    "<span style=\"color:#ff6200;\">Exercise 8.8</span>"
   ]
  },
  {
   "cell_type": "code",
   "execution_count": 61,
   "metadata": {},
   "outputs": [],
   "source": [
    "S = 40\n",
    "Kp = 30\n",
    "p = 7\n",
    "Kc = 50\n",
    "c = 5\n",
    "def pos(S, K, samount, camount, pamount):\n",
    "    return samount*S - camount*general.func_call(S, Kc) + pamount*general.func_put(S, Kp)"
   ]
  },
  {
   "attachments": {},
   "cell_type": "markdown",
   "metadata": {},
   "source": [
    "_<span style=\"color:#ff6200;\">Answer:</span>_"
   ]
  },
  {
   "cell_type": "code",
   "execution_count": 62,
   "metadata": {},
   "outputs": [],
   "source": [
    "samount, camount, pamount = 100, 100, 100\n",
    "x = [i for i in range(0, 100+1)]\n",
    "y = [pos(s, K, samount, camount, pamount) for s in x]\n",
    "samount1, camount1, pamount1 = 100, 200, 200\n",
    "x1 = [i for i in range(0, 100+1)]\n",
    "y1 = [pos(s, K, samount1, camount1, pamount1) for s in x1]"
   ]
  },
  {
   "cell_type": "code",
   "execution_count": 63,
   "metadata": {},
   "outputs": [
    {
     "data": {
      "text/plain": [
       "Text(50, 5000, '$K_{c}$')"
      ]
     },
     "execution_count": 63,
     "metadata": {},
     "output_type": "execute_result"
    },
    {
     "data": {
      "image/png": "[encoded data removed]",
      "text/plain": [
       "<Figure size 640x480 with 1 Axes>"
      ]
     },
     "metadata": {},
     "output_type": "display_data"
    }
   ],
   "source": [
    "plt.plot(x, y)\n",
    "plt.xlabel('stock')\n",
    "plt.ylabel('position')\n",
    "plt.plot(S, y[S], 'go')\n",
    "plt.text(S, y[S], '$S_{0}$', ha='left', va='top')\n",
    "plt.plot(Kp, y[Kp], 'ro')\n",
    "plt.text(Kp, y[Kp], '$K_{p}$', ha='left', va='top')\n",
    "plt.plot(Kc, y[Kc], 'ro')\n",
    "plt.text(Kc, y[Kc], '$K_{c}$', ha='left', va='top')"
   ]
  },
  {
   "cell_type": "code",
   "execution_count": 64,
   "metadata": {},
   "outputs": [],
   "source": [
    "# desc:\n",
    "#\n",
    "# If stock price is between S_{0} and K_{p} in the upcoming year, \n",
    "# the call options could not be exercised, as the strike price is higher\n",
    "# the put option causes some amount of loss as well, since the stock \n",
    "# price is higher, therefore a loss is happening in that interval\n",
    "#\n",
    "# if the stock price is between S_{0} and K_{c}, then the line rises\n",
    "# since position is improved with the increasing value of the stocks\n",
    "# at hand. The call option could not be exercised since the strike\n",
    "# price is higher, the put option could not be exercised as well since\n",
    "# the strike price is lower, so those two have no effect\n",
    "#\n",
    "# if the stock price is below K_{p}, then the put options start \n",
    "# compensating for the devaluation of the stocks at hand, thus,\n",
    "# the line remains stable\n",
    "#\n",
    "# if the stock price is above K_{c}, then the value is forced\n",
    "# to remain stable, although the value of the stocks at hand \n",
    "# increases, there is a loss due to call options that could \n",
    "# have been exercised if they were at hand (the strike price\n",
    "# is lower in this case)\n",
    "#"
   ]
  },
  {
   "cell_type": "code",
   "execution_count": 65,
   "metadata": {},
   "outputs": [
    {
     "data": {
      "text/plain": [
       "Text(50, 5000, '$K_{c}$')"
      ]
     },
     "execution_count": 65,
     "metadata": {},
     "output_type": "execute_result"
    },
    {
     "data": {
      "image/png": "[encoded data removed]",
      "text/plain": [
       "<Figure size 640x480 with 1 Axes>"
      ]
     },
     "metadata": {},
     "output_type": "display_data"
    }
   ],
   "source": [
    "plt.plot(x1, y1)\n",
    "plt.xlabel('stock')\n",
    "plt.ylabel('position')\n",
    "plt.plot(S, y1[S], 'go')\n",
    "plt.text(S, y1[S], '$S_{0}$', ha='left', va='top')\n",
    "plt.plot(Kp, y[Kp], 'ro')\n",
    "plt.text(Kp, y[Kp], '$K_{p}$', ha='right', va='top')\n",
    "plt.plot(Kc, y[Kc], 'ro')\n",
    "plt.text(Kc, y[Kc], '$K_{c}$', ha='left', va='bottom')"
   ]
  },
  {
   "attachments": {},
   "cell_type": "markdown",
   "metadata": {},
   "source": [
    "<span style=\"color:#ff6200;\">Exercise 8.9</span>"
   ]
  },
  {
   "cell_type": "code",
   "execution_count": 66,
   "metadata": {},
   "outputs": [],
   "source": [
    "Δt= 1/12\n",
    "K = 120\n",
    "c = 20\n",
    "p = 5\n",
    "S = 130\n",
    "from sympy import symbols, solve\n",
    "r = symbols('r')\n"
   ]
  },
  {
   "attachments": {},
   "cell_type": "markdown",
   "metadata": {},
   "source": [
    "_<span style=\"color:#ff6200;\">Answer:</span>_"
   ]
  },
  {
   "cell_type": "code",
   "execution_count": 67,
   "metadata": {},
   "outputs": [
    {
     "data": {
      "text/plain": [
       "([0.0425596144187959], [0.0434782608695652])"
      ]
     },
     "execution_count": 67,
     "metadata": {},
     "output_type": "execute_result"
    }
   ],
   "source": [
    "expr1 = c - p + (np.e**(-r*Δt * 12))*K - S\n",
    "sol1 = solve(expr1, r)\n",
    "\n",
    "expr2 = c - p + (1/(1+r)**(12 * 1/12))*K - S\n",
    "sol2 = solve(expr2, r)\n",
    "\n",
    "# sol2 is an approximation of sol1\n",
    "sol1, sol2"
   ]
  },
  {
   "attachments": {},
   "cell_type": "markdown",
   "metadata": {},
   "source": [
    "<span style=\"color:#ff6200; \">Section: 9.1.1</span>"
   ]
  },
  {
   "attachments": {},
   "cell_type": "markdown",
   "metadata": {},
   "source": [
    "<span style=\"color:#ff6200;\">Exercise 9.2</span>"
   ]
  },
  {
   "attachments": {},
   "cell_type": "markdown",
   "metadata": {},
   "source": [
    "_<span style=\"color:#ff6200;\">Answer:</span>_"
   ]
  },
  {
   "cell_type": "code",
   "execution_count": 68,
   "metadata": {},
   "outputs": [],
   "source": [
    "# we know that dXt = mu*Xtdt + sig*XtWt for this stochastic process\n",
    "# we also know that a linear stochastic process differential looks as follows:\n",
    "# Xt = (a(t) * Xt - c(t))dt + (b(t) * Xt - e(t))dWt\n",
    "# Then we can say that a(t) = mu, b(t) = sig, c(t) = d(t) = 0 in this situation\n",
    "# phi(t, t0) = exp(int_{t, t0} (a(s) - b(s)**2 / 2)ds + int_{t0, t} b(s)dWs)\n",
    "# and Xt = phi(t, t0) * (Xt0 + int_{t, t0} phi(s, t0)**-1 (c(s) - b(s)*e(x))ds int_{t, t0} phi(s, t0)**-1 e(s)dWs)\n",
    "#\n",
    "# we know that phi(t, t0 = 0) = exp(int_{t, t0} (mu - sig**2 / 2)ds + int_{t0, t} sigdWs)\n",
    "#                             = e**((mu - sig**2 / 2)*t + sigd*Wt)                    note: int_{t, t0} const ds = const * (t - t0)\n",
    "# we also know that\n",
    "#                  Xt = phi(t, t0) * (Xt0 + int_{t, t0} phi(s, t0)**-1 (0 - b(s)*0)ds int_{t, t0} phi(s, t0)**-1 0dWs)\n",
    "#                  Xt = e**((mu - sig**2 / 2)*t + sigd*Wt) * (Xt0 + 0 + 0)\n",
    "#                  Xt = Xt0 * e**((mu - sig**2 / 2)*t + sigd*Wt)\n",
    "# SOLUTION FOUND!"
   ]
  },
  {
   "attachments": {},
   "cell_type": "markdown",
   "metadata": {},
   "source": [
    "<span style=\"color:#ff6200;\">Exercise 9.3</span>"
   ]
  },
  {
   "attachments": {},
   "cell_type": "markdown",
   "metadata": {},
   "source": [
    "_<span style=\"color:#ff6200;\">Answer:</span>_"
   ]
  },
  {
   "cell_type": "code",
   "execution_count": 69,
   "metadata": {},
   "outputs": [],
   "source": [
    "# We know that an ITO process looks as follows\n",
    "# dXt = mu dt + sig dWt     where Xt is a stochastic process\n",
    "# ITOs lemman says that the differential of a stochastic process mapped from Xt by a function F(Xt, t) is:  \n",
    "# dF(Xt, t) = (mu * F(t)' + 0.5 * sig**2 * F(x)'')dt + sig * F(x)' dWt\n",
    "# now, we are given a stochastic process Xt with differential dXt = mu*Xt dt + sig*Xt dWt\n",
    "# and we want to find d ln(Xt), notice how the process is mapped from Xt to ln(Xt), so the function F = ln() here\n",
    "# to solve for the differential, we can use ITOs lemma\n",
    "# if we make it so that the ITO process has parameters:\n",
    "# mu = mu * Xt\n",
    "# sig = sig * Xt\n",
    "# then the differential of ITO process is identical to the differential of the process in question, and we know\n",
    "# how to solve the differential of the ITO process ! Therefore the differential of the process in question as well\n",
    "# lets compute the differential of the ITO process:\n",
    "# first: F(Xt, t) = ln(Xt), so F(Xt)' = Xt**-1, F(Xt)'' = -Xt**-2\n",
    "# second: F(Xt, t)' = 0, because the process we map to (ln(Xt)) has no t parameter, so what is inside is just a constant\n",
    "# then if we apply the formula we get\n",
    "#   dF(Xt, t) = dln(Xt) = (mu * 0 + 0.5 * sig**2 * -Xt**-2)dt + sig * Xt**-1 dWt\n",
    "#                       = (0.5 * sig**2 * -Xt**-2)dt + sig * Xt**-1 dWt\n",
    "# SOLUTION FOUND!"
   ]
  },
  {
   "attachments": {},
   "cell_type": "markdown",
   "metadata": {},
   "source": [
    "<span style=\"color:#ff6200;\">Exercise 9.4</span>"
   ]
  },
  {
   "attachments": {},
   "cell_type": "markdown",
   "metadata": {},
   "source": [
    "_<span style=\"color:#ff6200;\">Answer:</span>_"
   ]
  },
  {
   "cell_type": "code",
   "execution_count": 70,
   "metadata": {},
   "outputs": [],
   "source": [
    "# We know that the function F can get a stochastic process as parameter,\n",
    "# and this question does precisely that, the function F gets a weiner process Wt,\n",
    "# and then squares that (so any value in the process gets doubled)\n",
    "# so our original stochastic before the mapping is applied is Wt\n",
    "# let's recall that an ITO process diffential is\n",
    "#       dXt = mu dt + sig dWt     where Xt is a stochastic process\n",
    "# so in this case, if we make mu = 0, sig = 1, the ITO process becomes identical\n",
    "# with the process in question, the process in question (Wt) has differential dWt,\n",
    "# and the ITO process we just built has differential 0 + 1*dWt = dWt. \n",
    "#\n",
    "# now, remember that ITO lemma can map this ITO process and find the differential of that mapping,\n",
    "# more precisely, that is:\n",
    "# dF(Xt, t) = (mu * F(t)' + 0.5 * sig**2 * F(x)'')dt + sig * F(x)' dWt\n",
    "# in this case, the function that maps is x^2 (so taking the square), thus\n",
    "# F(Xt = Wt, t) = Wt**2, so F(Xt = Wt)' = 2Wt, F(Xt = Wt)'' = 2, F(Xt = Wt, t)' = 0 since the process is not dependent on t\n",
    "# then we derive the following differential for the mapped ITO process\n",
    "# dF(Xt = Wt, t) = (0 * F(t)' + 0.5 * 1**2 * 2)dt + 1 * 2Wt dWt\n",
    "#                = dt + 2Wt dWt\n",
    "# SOLUTION FOUND!"
   ]
  },
  {
   "attachments": {},
   "cell_type": "markdown",
   "metadata": {},
   "source": [
    "<span style=\"color:#ff6200;\">Exercise 9.5</span>"
   ]
  },
  {
   "attachments": {},
   "cell_type": "markdown",
   "metadata": {},
   "source": [
    "_<span style=\"color:#ff6200;\">Answer:</span>_"
   ]
  },
  {
   "attachments": {},
   "cell_type": "markdown",
   "metadata": {},
   "source": [
    "![title](https://d138zd1ktt9iqe.cloudfront.net/media/seo_landing_files/derivative-of-an-integral-1651731474.png)"
   ]
  },
  {
   "cell_type": "code",
   "execution_count": 71,
   "metadata": {},
   "outputs": [],
   "source": [
    "# We have it that Xt = e**(-\\alpha*t) * (X0 + sig*int_{t, t0} e**\\alpha*s dWs)\n",
    "# so the stochastic process in question is defined by the above formula, then\n",
    "# dXt = d(e**(-\\alpha*t) * (X0 + sig*int_{t, t0} e**\\alpha*s dWs))\n",
    "# to compute the differential of the Xt process, we need to compute the differntial\n",
    "# of the formula above, to do so, we can use the product rule (i.e. chain rule)\n",
    "# (f(x)*g(x))' = f(x)'*g(x) + f(x)*g(x)'\n",
    "# let f(t) = e**(-\\alpha*t), g(t) = (X0 + sig*int_{t, t0} e**\\alpha*s dWs) \n",
    "# we will take the derivative with respect to t here, since that is how the differential\n",
    "# of the stochastic process is defined as well\n",
    "# f' = e**(-\\alpha*t)' = -\\alpha*e**(-\\alpha*t)\n",
    "# g' = sig*e**(\\alpha*t)dWt (look at rule iii in the image above)\n",
    "# then we have\n",
    "# dXt = -\\alpha*e**(-\\alpha*t) * (X0 + sig*int_{t, t0} e**\\alpha*s dWs) + e**(-\\alpha*t) * sig*t*e**(\\alpha*t)dWt \n",
    "#     = sigt dWt + -\\alpha*(e**(-\\alpha*t) * (X0 + sig*int_{t, t0} e**\\alpha*s dWs))\n",
    "#     = \\alpha * Xt + sigt dWt \n",
    "# SOLUTION FOUND!"
   ]
  },
  {
   "attachments": {},
   "cell_type": "markdown",
   "metadata": {},
   "source": [
    "<span style=\"color:#ff6200;\">Exercise 9.6</span>"
   ]
  },
  {
   "attachments": {},
   "cell_type": "markdown",
   "metadata": {},
   "source": [
    "_<span style=\"color:#ff6200;\">Answer:</span>_"
   ]
  },
  {
   "cell_type": "code",
   "execution_count": 72,
   "metadata": {},
   "outputs": [],
   "source": [
    "# We have the process Xt = t**2 * (Wt)**3\n",
    "# we know that the differential of a ITO process is defined by\n",
    "# dXt = mu dt + sig dWt     where Xt is a stochastic process\n",
    "# to make the ITO process idntical to the one above, we need to do\n",
    "# mu = 0, sig = 1, then dXt = dWt = 0 + dWt\n",
    "# in this case, the process at hand is Wt, and a function is applied to it afterwards\n",
    "# the function F applied to the process is taking the cube of it, and then multiply it by t**2\n",
    "# now, to find the differential of the mapped stochastic process, we compute the followings\n",
    "# F(Xt = Wt)' = t**2 * 3*Wt**2\n",
    "# F(Xt = Wt)'' = t**2 * 6*Wt \n",
    "# F(t)' = 2*t * (Wt)**3\n",
    "# then the differential for the mapped stochastic process looks as follows\n",
    "# (0.5 * t**2 * 6*Wt + 2*t * (Wt)**3)dt + (t**2 * 3*Wt**2)dWt\n",
    "# we know that Wt**3 = Xt * t**-2, so then, Wt = (Xt * t**-2)**(1/3)\n",
    "# so now, we can plug the Wts in our equation\n",
    "# (0.5 * t**2 * 6*(Xt * t**-2)**(1/3) + 2*t * (Xt * t**-2)**(1/3)**3)dt + (t**2 * 3*Wt**2)dWt\n",
    "# after simplification, this yields the result\n"
   ]
  }
 ],
 "metadata": {
  "kernelspec": {
   "display_name": "Python 3",
   "language": "python",
   "name": "python3"
  },
  "language_info": {
   "codemirror_mode": {
    "name": "ipython",
    "version": 3
   },
   "file_extension": ".py",
   "mimetype": "text/x-python",
   "name": "python",
   "nbconvert_exporter": "python",
   "pygments_lexer": "ipython3",
   "version": "3.11.2"
  },
  "orig_nbformat": 4
 },
 "nbformat": 4,
 "nbformat_minor": 2
}
