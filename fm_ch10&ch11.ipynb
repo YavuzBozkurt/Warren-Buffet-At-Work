{
 "cells": [
  {
   "attachments": {},
   "cell_type": "markdown",
   "metadata": {},
   "source": [
    "<span style=\"color:#ff6200; \">Section: 10.1.1</span>"
   ]
  },
  {
   "attachments": {},
   "cell_type": "markdown",
   "metadata": {},
   "source": [
    "<span style=\"color:#ff6200;\">Exercise 10.1</span>"
   ]
  },
  {
   "attachments": {},
   "cell_type": "markdown",
   "metadata": {},
   "source": [
    "_<span style=\"color:#ff6200;\">Answer:</span>_"
   ]
  },
  {
   "cell_type": "code",
   "execution_count": 96,
   "metadata": {},
   "outputs": [],
   "source": [
    "# the stock price after one year, is modolled with a log-normal distribution\n",
    "# this is the distribution that the returns have\n",
    "# the stock price during the year (so continuously speaking) is determined with\n",
    "# a normal distribution, this is the distribution that the cumulative gains have until time T"
   ]
  },
  {
   "attachments": {},
   "cell_type": "markdown",
   "metadata": {},
   "source": [
    "<span style=\"color:#ff6200;\">Exercise 10.3</span>"
   ]
  },
  {
   "attachments": {},
   "cell_type": "markdown",
   "metadata": {},
   "source": []
  },
  {
   "cell_type": "code",
   "execution_count": 97,
   "metadata": {},
   "outputs": [],
   "source": [
    "# WARNING!\n",
    "# black scholes formula is designed such that t is expressed in years\n",
    "import numpy as np\n",
    "from scipy.stats import norm\n",
    "K = 50\n",
    "S0 = 50\n",
    "rf = 10 / 100\n",
    "vol = 30 / 100\n",
    "T = 1 / 4\n",
    "t = 0\n",
    "d1 = ((vol * (T - t)**0.5)**-1) * (np.log(S0 / K) + (rf + (vol**2) / 2) * (T - t))\n",
    "d2 = d1 - vol * (T - t)**0.5\n",
    "C = norm.cdf(d1)*S0 - norm.cdf(d2)*K*np.e**(-rf*(T - t))\n",
    "P = K*np.e**(-rf*(T - t)) - S0 + C"
   ]
  },
  {
   "attachments": {},
   "cell_type": "markdown",
   "metadata": {},
   "source": [
    "_<span style=\"color:#ff6200;\">Answer:</span>_"
   ]
  },
  {
   "cell_type": "code",
   "execution_count": 98,
   "metadata": {},
   "outputs": [
    {
     "data": {
      "text/plain": [
       "(3.610445066084015, 2.3759406675006467, 0.2416666666666667, 0.0916666666666667)"
      ]
     },
     "execution_count": 98,
     "metadata": {},
     "output_type": "execute_result"
    }
   ],
   "source": [
    "C, P, d1, d2"
   ]
  },
  {
   "attachments": {},
   "cell_type": "markdown",
   "metadata": {},
   "source": [
    "<span style=\"color:#ff6200;\">Exercise 10.4</span>"
   ]
  },
  {
   "cell_type": "code",
   "execution_count": 99,
   "metadata": {},
   "outputs": [
    {
     "data": {
      "text/plain": [
       "Text(90, 5, '$K_{2}$')"
      ]
     },
     "execution_count": 99,
     "metadata": {},
     "output_type": "execute_result"
    },
    {
     "data": {
      "image/png": "[encoded data removed]",
      "text/plain": [
       "<Figure size 640x480 with 1 Axes>"
      ]
     },
     "metadata": {},
     "output_type": "display_data"
    }
   ],
   "source": [
    "import matplotlib.pyplot as plt\n",
    "\n",
    "K = 85\n",
    "S0 = 83\n",
    "rf = 3.8 / 100\n",
    "vol = 30 / 100\n",
    "T = 1 / 4\n",
    "t = 0\n",
    "d1 = ((vol * (T - t)**0.5)**-1) * (np.log(S0 / K) + (rf + (vol**2) / 2) * (T - t))\n",
    "d2 = d1 - vol * (T - t)**0.5\n",
    "C = norm.cdf(d1)*S0 - norm.cdf(d2)*K*np.e**(-rf*(T - t))\n",
    "P = K*np.e**(-rf*(T - t)) - S0 + C\n",
    "\n",
    "def payoff(S, K):\n",
    "    return max(0, S - K)\n",
    "\n",
    "x = [i for i in range(50, 130+1)]\n",
    "y = [payoff(s, K) - payoff(s, 90) for s in x]\n",
    "plt.plot(x, y)\n",
    "plt.xlabel(\"stock\")\n",
    "plt.ylabel(\"position\")\n",
    "\n",
    "plt.plot(K, payoff(K, K) - payoff(K, 90), 'ro')\n",
    "plt.text(K, payoff(K, K) - payoff(K, 90), '$K_{1}$', ha='left', va='top')\n",
    "\n",
    "plt.plot(90, payoff(90, K) - payoff(90, 90), 'go')\n",
    "plt.text(90, payoff(90, K) - payoff(90, 90), '$K_{2}$', ha='left', va='top')\n"
   ]
  },
  {
   "attachments": {},
   "cell_type": "markdown",
   "metadata": {},
   "source": [
    "_<span style=\"color:#ff6200;\">Answer:</span>_"
   ]
  },
  {
   "cell_type": "code",
   "execution_count": 100,
   "metadata": {},
   "outputs": [
    {
     "data": {
      "text/plain": [
       "(4.422463716022655,\n",
       " 5.6187872236691945,\n",
       " -0.02040432462479041,\n",
       " -0.1704043246247904,\n",
       " 0.5676539143373436)"
      ]
     },
     "execution_count": 100,
     "metadata": {},
     "output_type": "execute_result"
    }
   ],
   "source": [
    "C, P, d1, d2, norm.cdf(-d2)"
   ]
  },
  {
   "attachments": {},
   "cell_type": "markdown",
   "metadata": {},
   "source": [
    "<span style=\"color:#ff6200;\">Exercise 10.5</span>"
   ]
  },
  {
   "cell_type": "code",
   "execution_count": 101,
   "metadata": {},
   "outputs": [],
   "source": [
    "K = 40\n",
    "S0 = 38\n",
    "rf = 16 / 100\n",
    "vol = 35 / 100\n",
    "T = 1 / 2\n",
    "t = 0\n",
    "d1 = ((vol * (T - t)**0.5)**-1) * (np.log(S0 / K) + (rf + (vol**2) / 2) * (T - t))\n",
    "d2 = d1 - vol * (T - t)**0.5\n",
    "C = norm.cdf(d1)*S0 - norm.cdf(d2)*K*np.e**(-rf*(T - t))\n",
    "P = K*np.e**(-rf*(T - t)) - S0 + C\n"
   ]
  },
  {
   "attachments": {},
   "cell_type": "markdown",
   "metadata": {},
   "source": [
    "_<span style=\"color:#ff6200;\">Answer:</span>_"
   ]
  },
  {
   "cell_type": "code",
   "execution_count": 102,
   "metadata": {},
   "outputs": [
    {
     "data": {
      "text/plain": [
       "(0.496907797501081, 0.503092202498919)"
      ]
     },
     "execution_count": 102,
     "metadata": {},
     "output_type": "execute_result"
    }
   ],
   "source": [
    "norm.cdf(d2), norm.cdf(-d2)"
   ]
  },
  {
   "attachments": {},
   "cell_type": "markdown",
   "metadata": {},
   "source": [
    "<span style=\"color:#ff6200;\">Exercise 10.6</span>"
   ]
  },
  {
   "cell_type": "code",
   "execution_count": 103,
   "metadata": {},
   "outputs": [],
   "source": [
    "K = 40\n",
    "S0 = 40\n",
    "rf = 15 / 100\n",
    "vol = 25 / 100\n",
    "T = 2\n",
    "t = 0"
   ]
  },
  {
   "attachments": {},
   "cell_type": "markdown",
   "metadata": {},
   "source": [
    "_<span style=\"color:#ff6200;\">Answer:</span>_"
   ]
  },
  {
   "cell_type": "code",
   "execution_count": 104,
   "metadata": {},
   "outputs": [
    {
     "data": {
      "text/plain": [
       "(0.2375, 0.125)"
      ]
     },
     "execution_count": 104,
     "metadata": {},
     "output_type": "execute_result"
    }
   ],
   "source": [
    "# they are log-normally distributed, therefore\n",
    "((rf - 0.5 * vol**2)*T, (vol**2)*T)"
   ]
  }
 ],
 "metadata": {
  "kernelspec": {
   "display_name": "Python 3",
   "language": "python",
   "name": "python3"
  },
  "language_info": {
   "codemirror_mode": {
    "name": "ipython",
    "version": 3
   },
   "file_extension": ".py",
   "mimetype": "text/x-python",
   "name": "python",
   "nbconvert_exporter": "python",
   "pygments_lexer": "ipython3",
   "version": "3.11.2"
  },
  "orig_nbformat": 4
 },
 "nbformat": 4,
 "nbformat_minor": 2
}
